{
 "cells": [
  {
   "cell_type": "markdown",
   "metadata": {},
   "source": [
    "# Index\n",
    "\n",
    "Parse data for analysis\n",
    "1. [Mortality](#Mortality)\n",
    "2. [Medicine](#Medicine)\n",
    "3. [Hygiene](#Hygiene)\n",
    "4. [Finance-universal health coverage(UHC)](#Finance-universal-health-coverage-(UHC))\n",
    "\n",
    "Machine learning\n",
    "1. [Prepare data for machine learning](#Prepare-data-for-machine-learning)\n",
    "2. [Maternal mortality](#Maternal-mortality)\n",
    "3. [Infant mortality](#Infant-mortality)\n",
    "4. [Neonatal mortality](#Neonatal-mortality)\n",
    "5. [Under 5 mortality](#Under-5-mortality)"
   ]
  },
  {
   "cell_type": "code",
   "execution_count": 5,
   "metadata": {
    "_cell_guid": "b1076dfc-b9ad-4769-8c92-a6c4dae69d19",
    "_uuid": "8f2839f25d086af736a60e9eeb907d3b93b6e0e5",
    "papermill": {
     "duration": 0.081587,
     "end_time": "2021-01-10T14:09:42.025353",
     "exception": false,
     "start_time": "2021-01-10T14:09:41.943766",
     "status": "completed"
    },
    "tags": []
   },
   "outputs": [],
   "source": [
    "import numpy as np # linear algebra\n",
    "import pandas as pd # data processing, CSV file I/O (e.g. pd.read_csv)"
   ]
  },
  {
   "cell_type": "code",
   "execution_count": 6,
   "metadata": {
    "papermill": {
     "duration": 14.010471,
     "end_time": "2021-01-10T14:09:56.090407",
     "exception": false,
     "start_time": "2021-01-10T14:09:42.079936",
     "status": "completed"
    },
    "tags": []
   },
   "outputs": [
    {
     "name": "stdout",
     "output_type": "stream",
     "text": [
      "Requirement already satisfied: pycountry-convert in c:\\users\\sc-sg\\anaconda3\\lib\\site-packages (0.7.2)\n",
      "Requirement already satisfied: pprintpp>=0.3.0 in c:\\users\\sc-sg\\anaconda3\\lib\\site-packages (from pycountry-convert) (0.4.0)\n",
      "Requirement already satisfied: pytest-mock>=1.6.3 in c:\\users\\sc-sg\\anaconda3\\lib\\site-packages (from pycountry-convert) (3.5.1)\n",
      "Requirement already satisfied: wheel>=0.30.0 in c:\\users\\sc-sg\\anaconda3\\lib\\site-packages (from pycountry-convert) (0.35.1)\n",
      "Requirement already satisfied: pytest>=3.4.0 in c:\\users\\sc-sg\\anaconda3\\lib\\site-packages (from pycountry-convert) (6.2.1)\n",
      "Requirement already satisfied: pytest-cov>=2.5.1 in c:\\users\\sc-sg\\anaconda3\\lib\\site-packages (from pycountry-convert) (2.10.1)\n",
      "Requirement already satisfied: repoze.lru>=0.7 in c:\\users\\sc-sg\\anaconda3\\lib\\site-packages (from pycountry-convert) (0.7)\n",
      "Requirement already satisfied: pycountry>=16.11.27.1 in c:\\users\\sc-sg\\anaconda3\\lib\\site-packages (from pycountry-convert) (20.7.3)\n",
      "Requirement already satisfied: colorama; sys_platform == \"win32\" in c:\\users\\sc-sg\\anaconda3\\lib\\site-packages (from pytest>=3.4.0->pycountry-convert) (0.4.4)\n",
      "Requirement already satisfied: iniconfig in c:\\users\\sc-sg\\anaconda3\\lib\\site-packages (from pytest>=3.4.0->pycountry-convert) (1.1.1)\n",
      "Requirement already satisfied: packaging in c:\\users\\sc-sg\\anaconda3\\lib\\site-packages (from pytest>=3.4.0->pycountry-convert) (20.4)\n",
      "Requirement already satisfied: py>=1.8.2 in c:\\users\\sc-sg\\anaconda3\\lib\\site-packages (from pytest>=3.4.0->pycountry-convert) (1.9.0)\n",
      "Requirement already satisfied: atomicwrites>=1.0; sys_platform == \"win32\" in c:\\users\\sc-sg\\anaconda3\\lib\\site-packages (from pytest>=3.4.0->pycountry-convert) (1.4.0)\n",
      "Requirement already satisfied: pluggy<1.0.0a1,>=0.12 in c:\\users\\sc-sg\\anaconda3\\lib\\site-packages (from pytest>=3.4.0->pycountry-convert) (0.13.1)\n",
      "Requirement already satisfied: attrs>=19.2.0 in c:\\users\\sc-sg\\anaconda3\\lib\\site-packages (from pytest>=3.4.0->pycountry-convert) (20.3.0)\n",
      "Requirement already satisfied: toml in c:\\users\\sc-sg\\anaconda3\\lib\\site-packages (from pytest>=3.4.0->pycountry-convert) (0.10.1)\n",
      "Requirement already satisfied: coverage>=4.4 in c:\\users\\sc-sg\\anaconda3\\lib\\site-packages (from pytest-cov>=2.5.1->pycountry-convert) (5.3.1)\n",
      "Requirement already satisfied: pyparsing>=2.0.2 in c:\\users\\sc-sg\\anaconda3\\lib\\site-packages (from packaging->pytest>=3.4.0->pycountry-convert) (2.4.7)\n",
      "Requirement already satisfied: six in c:\\users\\sc-sg\\anaconda3\\lib\\site-packages (from packaging->pytest>=3.4.0->pycountry-convert) (1.15.0)\n",
      "Note: you may need to restart the kernel to use updated packages.\n"
     ]
    }
   ],
   "source": [
    "pip install pycountry-convert"
   ]
  },
  {
   "cell_type": "code",
   "execution_count": 7,
   "metadata": {
    "_cell_guid": "79c7e3d0-c299-4dcb-8224-4455121ee9b0",
    "_uuid": "d629ff2d2480ee46fbb7e2d37f6b5fab8052498a",
    "papermill": {
     "duration": 1.173235,
     "end_time": "2021-01-10T14:09:57.334002",
     "exception": false,
     "start_time": "2021-01-10T14:09:56.160767",
     "status": "completed"
    },
    "tags": []
   },
   "outputs": [],
   "source": [
    "import seaborn as sns\n",
    "import matplotlib.pyplot as plt\n",
    "%matplotlib inline\n",
    "plt.rcParams[\"figure.figsize\"] = [10,5]\n",
    "\n",
    "pd.set_option('display.max_colwidth', None)\n",
    "pd.set_option('display.max_columns', None)\n",
    "\n",
    "import pycountry\n",
    "import pycountry_convert as pc\n",
    "\n",
    "def convert_continent(x):\n",
    "    try:\n",
    "        return pc.country_alpha2_to_continent_code(x)\n",
    "    except:\n",
    "        if x == 'TL':\n",
    "            return 'AS'"
   ]
  },
  {
   "cell_type": "markdown",
   "metadata": {
    "papermill": {
     "duration": 0.063348,
     "end_time": "2021-01-10T14:09:57.461123",
     "exception": false,
     "start_time": "2021-01-10T14:09:57.397775",
     "status": "completed"
    },
    "tags": []
   },
   "source": [
    "EDA refer to : https://www.kaggle.com/singchenyeo/eda-mortality/notebook"
   ]
  },
  {
   "cell_type": "markdown",
   "metadata": {
    "papermill": {
     "duration": 0.062895,
     "end_time": "2021-01-10T14:09:57.587863",
     "exception": false,
     "start_time": "2021-01-10T14:09:57.524968",
     "status": "completed"
    },
    "tags": []
   },
   "source": [
    "# Mortality"
   ]
  },
  {
   "cell_type": "code",
   "execution_count": 8,
   "metadata": {
    "papermill": {
     "duration": 0.073571,
     "end_time": "2021-01-10T14:09:57.725668",
     "exception": false,
     "start_time": "2021-01-10T14:09:57.652097",
     "status": "completed"
    },
    "tags": []
   },
   "outputs": [],
   "source": [
    "f = lambda x: x['First Tooltip'].split(\"[\")[0]"
   ]
  },
  {
   "cell_type": "code",
   "execution_count": 9,
   "metadata": {
    "papermill": {
     "duration": 0.189807,
     "end_time": "2021-01-10T14:09:57.979825",
     "exception": false,
     "start_time": "2021-01-10T14:09:57.790018",
     "status": "completed"
    },
    "tags": []
   },
   "outputs": [
    {
     "name": "stdout",
     "output_type": "stream",
     "text": [
      "<class 'pandas.core.frame.DataFrame'>\n",
      "RangeIndex: 3294 entries, 0 to 3293\n",
      "Data columns (total 3 columns):\n",
      " #   Column                  Non-Null Count  Dtype         \n",
      "---  ------                  --------------  -----         \n",
      " 0   Location                3294 non-null   object        \n",
      " 1   Period                  3294 non-null   datetime64[ns]\n",
      " 2   maternalMortalityRatio  3294 non-null   float64       \n",
      "dtypes: datetime64[ns](1), float64(1), object(1)\n",
      "memory usage: 77.3+ KB\n"
     ]
    }
   ],
   "source": [
    "maternalMortalityRatio_s = pd.read_csv('../csv/maternalMortalityRatio.csv', parse_dates =['Period'])\n",
    "maternalMortalityRatio_s['First Tooltip'] = maternalMortalityRatio_s.apply(f, axis=1)\n",
    "maternalMortalityRatio_s['First Tooltip'] = maternalMortalityRatio_s['First Tooltip'].astype(float)\n",
    "maternalMortalityRatio_s = maternalMortalityRatio_s[['Location','Period','First Tooltip']]\n",
    "maternalMortalityRatio_s = maternalMortalityRatio_s.rename(columns ={'First Tooltip':'maternalMortalityRatio'})\n",
    "maternalMortalityRatio_s.info()"
   ]
  },
  {
   "cell_type": "code",
   "execution_count": 10,
   "metadata": {
    "papermill": {
     "duration": 0.821469,
     "end_time": "2021-01-10T14:09:58.865603",
     "exception": false,
     "start_time": "2021-01-10T14:09:58.044134",
     "status": "completed"
    },
    "tags": []
   },
   "outputs": [
    {
     "name": "stdout",
     "output_type": "stream",
     "text": [
      "<class 'pandas.core.frame.DataFrame'>\n",
      "Int64Index: 10000 entries, 0 to 29997\n",
      "Data columns (total 3 columns):\n",
      " #   Column               Non-Null Count  Dtype         \n",
      "---  ------               --------------  -----         \n",
      " 0   Location             10000 non-null  object        \n",
      " 1   Period               10000 non-null  datetime64[ns]\n",
      " 2   infantMortalityRate  10000 non-null  float64       \n",
      "dtypes: datetime64[ns](1), float64(1), object(1)\n",
      "memory usage: 312.5+ KB\n"
     ]
    }
   ],
   "source": [
    "infantMortalityRate_s = pd.read_csv('../csv/infantMortalityRate.csv', parse_dates=['Period'])\n",
    "infantMortalityRate_s['First Tooltip'] = infantMortalityRate_s.apply(f, axis=1)\n",
    "infantMortalityRate_s['First Tooltip'] = infantMortalityRate_s['First Tooltip'].astype(float)\n",
    "infantMortalityRate_s = infantMortalityRate_s[infantMortalityRate_s['Dim1']=='Both sexes']\n",
    "infantMortalityRate_s = infantMortalityRate_s[['Location','Period','First Tooltip']]\n",
    "infantMortalityRate_s = infantMortalityRate_s.rename(columns={'First Tooltip':'infantMortalityRate'})\n",
    "infantMortalityRate_s.info()"
   ]
  },
  {
   "cell_type": "code",
   "execution_count": 11,
   "metadata": {
    "papermill": {
     "duration": 0.290593,
     "end_time": "2021-01-10T14:09:59.220956",
     "exception": false,
     "start_time": "2021-01-10T14:09:58.930363",
     "status": "completed"
    },
    "tags": []
   },
   "outputs": [
    {
     "name": "stdout",
     "output_type": "stream",
     "text": [
      "<class 'pandas.core.frame.DataFrame'>\n",
      "Int64Index: 9135 entries, 0 to 9134\n",
      "Data columns (total 3 columns):\n",
      " #   Column                 Non-Null Count  Dtype         \n",
      "---  ------                 --------------  -----         \n",
      " 0   Location               9135 non-null   object        \n",
      " 1   Period                 9135 non-null   datetime64[ns]\n",
      " 2   neonatalMortalityRate  9135 non-null   float64       \n",
      "dtypes: datetime64[ns](1), float64(1), object(1)\n",
      "memory usage: 285.5+ KB\n"
     ]
    }
   ],
   "source": [
    "neonatalMortalityRate_s = pd.read_csv('../csv/neonatalMortalityRate.csv', parse_dates=['Period']) \n",
    "neonatalMortalityRate_s['First Tooltip'] = neonatalMortalityRate_s.apply(f, axis=1)\n",
    "neonatalMortalityRate_s['First Tooltip'] = neonatalMortalityRate_s['First Tooltip'].astype(float)\n",
    "neonatalMortalityRate_s = neonatalMortalityRate_s[neonatalMortalityRate_s['Dim1']=='Both sexes']\n",
    "neonatalMortalityRate_s = neonatalMortalityRate_s[['Location','Period','First Tooltip']]\n",
    "neonatalMortalityRate_s = neonatalMortalityRate_s.rename(columns={'First Tooltip':'neonatalMortalityRate'})\n",
    "neonatalMortalityRate_s.info()"
   ]
  },
  {
   "cell_type": "code",
   "execution_count": 12,
   "metadata": {
    "papermill": {
     "duration": 0.81805,
     "end_time": "2021-01-10T14:10:00.128551",
     "exception": false,
     "start_time": "2021-01-10T14:09:59.310501",
     "status": "completed"
    },
    "tags": []
   },
   "outputs": [
    {
     "name": "stdout",
     "output_type": "stream",
     "text": [
      "<class 'pandas.core.frame.DataFrame'>\n",
      "Int64Index: 10000 entries, 0 to 29997\n",
      "Data columns (total 3 columns):\n",
      " #   Column               Non-Null Count  Dtype         \n",
      "---  ------               --------------  -----         \n",
      " 0   Location             10000 non-null  object        \n",
      " 1   Period               10000 non-null  datetime64[ns]\n",
      " 2   under5MortalityRate  10000 non-null  float64       \n",
      "dtypes: datetime64[ns](1), float64(1), object(1)\n",
      "memory usage: 312.5+ KB\n"
     ]
    }
   ],
   "source": [
    "under5MortalityRate_s = pd.read_csv('../csv/under5MortalityRate.csv', parse_dates=['Period']) \n",
    "under5MortalityRate_s['First Tooltip'] = under5MortalityRate_s.apply(f, axis=1)\n",
    "under5MortalityRate_s['First Tooltip'] = under5MortalityRate_s['First Tooltip'].astype(float)\n",
    "under5MortalityRate_s = under5MortalityRate_s[under5MortalityRate_s['Dim1']=='Both sexes']\n",
    "under5MortalityRate_s = under5MortalityRate_s[['Location','Period','First Tooltip']]\n",
    "under5MortalityRate_s = under5MortalityRate_s.rename(columns={'First Tooltip':'under5MortalityRate'})\n",
    "under5MortalityRate_s.info()"
   ]
  },
  {
   "cell_type": "markdown",
   "metadata": {
    "papermill": {
     "duration": 0.065417,
     "end_time": "2021-01-10T14:10:00.261751",
     "exception": false,
     "start_time": "2021-01-10T14:10:00.196334",
     "status": "completed"
    },
    "tags": []
   },
   "source": [
    "# Medicine"
   ]
  },
  {
   "cell_type": "code",
   "execution_count": 13,
   "metadata": {
    "papermill": {
     "duration": 0.096644,
     "end_time": "2021-01-10T14:10:00.423886",
     "exception": false,
     "start_time": "2021-01-10T14:10:00.327242",
     "status": "completed"
    },
    "tags": []
   },
   "outputs": [
    {
     "name": "stdout",
     "output_type": "stream",
     "text": [
      "<class 'pandas.core.frame.DataFrame'>\n",
      "RangeIndex: 1755 entries, 0 to 1754\n",
      "Data columns (total 3 columns):\n",
      " #   Column                          Non-Null Count  Dtype         \n",
      "---  ------                          --------------  -----         \n",
      " 0   Location                        1755 non-null   object        \n",
      " 1   Period                          1755 non-null   datetime64[ns]\n",
      " 2   birthAttendedBySkilledPersonal  1755 non-null   float64       \n",
      "dtypes: datetime64[ns](1), float64(1), object(1)\n",
      "memory usage: 41.3+ KB\n"
     ]
    }
   ],
   "source": [
    "birthAttendedBySkilledPersonal = pd.read_csv('../csv/birthAttendedBySkilledPersonal.csv', parse_dates =['Period'])\n",
    "birthAttendedBySkilledPersonal_s = birthAttendedBySkilledPersonal[['Location','Period','First Tooltip']]\n",
    "birthAttendedBySkilledPersonal_s = birthAttendedBySkilledPersonal_s.rename(columns={'First Tooltip':'birthAttendedBySkilledPersonal'})\n",
    "birthAttendedBySkilledPersonal_s.info()"
   ]
  },
  {
   "cell_type": "code",
   "execution_count": 14,
   "metadata": {
    "papermill": {
     "duration": 0.097731,
     "end_time": "2021-01-10T14:10:00.587708",
     "exception": false,
     "start_time": "2021-01-10T14:10:00.489977",
     "status": "completed"
    },
    "tags": []
   },
   "outputs": [
    {
     "name": "stdout",
     "output_type": "stream",
     "text": [
      "<class 'pandas.core.frame.DataFrame'>\n",
      "RangeIndex: 2506 entries, 0 to 2505\n",
      "Data columns (total 3 columns):\n",
      " #   Column          Non-Null Count  Dtype         \n",
      "---  ------          --------------  -----         \n",
      " 0   Location        2506 non-null   object        \n",
      " 1   Period          2506 non-null   datetime64[ns]\n",
      " 2   medicalDoctors  2506 non-null   float64       \n",
      "dtypes: datetime64[ns](1), float64(1), object(1)\n",
      "memory usage: 58.9+ KB\n"
     ]
    }
   ],
   "source": [
    "medicalDoctors = pd.read_csv('../csv/medicalDoctors.csv', parse_dates =['Period'])\n",
    "medicalDoctors_s = medicalDoctors[['Location','Period','First Tooltip']]\n",
    "medicalDoctors_s = medicalDoctors_s.rename(columns={'First Tooltip':'medicalDoctors'})\n",
    "medicalDoctors_s.info()"
   ]
  },
  {
   "cell_type": "code",
   "execution_count": 15,
   "metadata": {
    "papermill": {
     "duration": 0.116826,
     "end_time": "2021-01-10T14:10:00.770851",
     "exception": false,
     "start_time": "2021-01-10T14:10:00.654025",
     "status": "completed"
    },
    "tags": []
   },
   "outputs": [
    {
     "name": "stdout",
     "output_type": "stream",
     "text": [
      "<class 'pandas.core.frame.DataFrame'>\n",
      "RangeIndex: 2587 entries, 0 to 2586\n",
      "Data columns (total 3 columns):\n",
      " #   Column             Non-Null Count  Dtype         \n",
      "---  ------             --------------  -----         \n",
      " 0   Location           2587 non-null   object        \n",
      " 1   Period             2587 non-null   datetime64[ns]\n",
      " 2   nursingAndMidwife  2587 non-null   float64       \n",
      "dtypes: datetime64[ns](1), float64(1), object(1)\n",
      "memory usage: 60.8+ KB\n"
     ]
    }
   ],
   "source": [
    "nursingAndMidwife = pd.read_csv('../csv/nursingAndMidwife.csv', parse_dates =['Period'])\n",
    "# Data from Belize has problem, should divide by 100\n",
    "nursingAndMidwife.loc[(nursingAndMidwife['Location'] == 'Belize') & (nursingAndMidwife['First Tooltip'] > 50), 'First Tooltip']  /= 100\n",
    "nursingAndMidwife_s = nursingAndMidwife[['Location','Period','First Tooltip']]\n",
    "nursingAndMidwife_s = nursingAndMidwife_s.rename(columns={'First Tooltip':'nursingAndMidwife'})\n",
    "nursingAndMidwife_s.info()"
   ]
  },
  {
   "cell_type": "code",
   "execution_count": 16,
   "metadata": {
    "papermill": {
     "duration": 0.097814,
     "end_time": "2021-01-10T14:10:00.938229",
     "exception": false,
     "start_time": "2021-01-10T14:10:00.840415",
     "status": "completed"
    },
    "tags": []
   },
   "outputs": [
    {
     "name": "stdout",
     "output_type": "stream",
     "text": [
      "<class 'pandas.core.frame.DataFrame'>\n",
      "RangeIndex: 1795 entries, 0 to 1794\n",
      "Data columns (total 3 columns):\n",
      " #   Column       Non-Null Count  Dtype         \n",
      "---  ------       --------------  -----         \n",
      " 0   Location     1795 non-null   object        \n",
      " 1   Period       1795 non-null   datetime64[ns]\n",
      " 2   pharmacists  1795 non-null   float64       \n",
      "dtypes: datetime64[ns](1), float64(1), object(1)\n",
      "memory usage: 42.2+ KB\n"
     ]
    }
   ],
   "source": [
    "pharmacists = pd.read_csv('../csv/pharmacists.csv', parse_dates =['Period'])\n",
    "pharmacists_s = pharmacists[['Location','Period','First Tooltip']]\n",
    "pharmacists_s = pharmacists_s.rename(columns={'First Tooltip':'pharmacists'})\n",
    "pharmacists_s.info()"
   ]
  },
  {
   "cell_type": "markdown",
   "metadata": {
    "papermill": {
     "duration": 0.0695,
     "end_time": "2021-01-10T14:10:01.076238",
     "exception": false,
     "start_time": "2021-01-10T14:10:01.006738",
     "status": "completed"
    },
    "tags": []
   },
   "source": [
    "# Hygiene"
   ]
  },
  {
   "cell_type": "code",
   "execution_count": 17,
   "metadata": {
    "papermill": {
     "duration": 0.107579,
     "end_time": "2021-01-10T14:10:01.252901",
     "exception": false,
     "start_time": "2021-01-10T14:10:01.145322",
     "status": "completed"
    },
    "tags": []
   },
   "outputs": [
    {
     "name": "stdout",
     "output_type": "stream",
     "text": [
      "<class 'pandas.core.frame.DataFrame'>\n",
      "RangeIndex: 3455 entries, 0 to 3454\n",
      "Data columns (total 3 columns):\n",
      " #   Column                      Non-Null Count  Dtype         \n",
      "---  ------                      --------------  -----         \n",
      " 0   Location                    3455 non-null   object        \n",
      " 1   Period                      3455 non-null   datetime64[ns]\n",
      " 2   basicDrinkingWaterServices  3455 non-null   float64       \n",
      "dtypes: datetime64[ns](1), float64(1), object(1)\n",
      "memory usage: 81.1+ KB\n"
     ]
    }
   ],
   "source": [
    "basicDrinkingWaterServices = pd.read_csv('../csv/basicDrinkingWaterServices.csv', parse_dates=['Period'])\n",
    "basicDrinkingWaterServices = basicDrinkingWaterServices[['Location','Period','First Tooltip']]\n",
    "basicDrinkingWaterServices = basicDrinkingWaterServices.rename(columns={'First Tooltip':'basicDrinkingWaterServices'})\n",
    "basicDrinkingWaterServices.info()"
   ]
  },
  {
   "cell_type": "code",
   "execution_count": 18,
   "metadata": {
    "papermill": {
     "duration": 0.122927,
     "end_time": "2021-01-10T14:10:01.444611",
     "exception": false,
     "start_time": "2021-01-10T14:10:01.321684",
     "status": "completed"
    },
    "tags": []
   },
   "outputs": [
    {
     "name": "stdout",
     "output_type": "stream",
     "text": [
      "<class 'pandas.core.frame.DataFrame'>\n",
      "Int64Index: 3439 entries, 0 to 9365\n",
      "Data columns (total 3 columns):\n",
      " #   Column                            Non-Null Count  Dtype         \n",
      "---  ------                            --------------  -----         \n",
      " 0   Location                          3439 non-null   object        \n",
      " 1   Period                            3439 non-null   datetime64[ns]\n",
      " 2   atLeastBasicSanitizationServices  3439 non-null   float64       \n",
      "dtypes: datetime64[ns](1), float64(1), object(1)\n",
      "memory usage: 107.5+ KB\n"
     ]
    }
   ],
   "source": [
    "atLeastBasicSanitizationServices = pd.read_csv('../csv/atLeastBasicSanitizationServices.csv', parse_dates=['Period'])\n",
    "atLeastBasicSanitizationServices = atLeastBasicSanitizationServices[atLeastBasicSanitizationServices['Dim1'] == 'Total']\n",
    "atLeastBasicSanitizationServices = atLeastBasicSanitizationServices[['Location','Period','First Tooltip']]\n",
    "atLeastBasicSanitizationServices = atLeastBasicSanitizationServices.rename(columns={'First Tooltip':'atLeastBasicSanitizationServices'})\n",
    "atLeastBasicSanitizationServices.info()"
   ]
  },
  {
   "cell_type": "code",
   "execution_count": 19,
   "metadata": {
    "papermill": {
     "duration": 0.103714,
     "end_time": "2021-01-10T14:10:01.616970",
     "exception": false,
     "start_time": "2021-01-10T14:10:01.513256",
     "status": "completed"
    },
    "tags": []
   },
   "outputs": [
    {
     "name": "stdout",
     "output_type": "stream",
     "text": [
      "<class 'pandas.core.frame.DataFrame'>\n",
      "Int64Index: 1571 entries, 0 to 3618\n",
      "Data columns (total 3 columns):\n",
      " #   Column              Non-Null Count  Dtype         \n",
      "---  ------              --------------  -----         \n",
      " 0   Location            1571 non-null   object        \n",
      " 1   Period              1571 non-null   datetime64[ns]\n",
      " 2   safelySanitization  1571 non-null   float64       \n",
      "dtypes: datetime64[ns](1), float64(1), object(1)\n",
      "memory usage: 49.1+ KB\n"
     ]
    }
   ],
   "source": [
    "safelySanitization = pd.read_csv('../csv/safelySanitization.csv', parse_dates=['Period'])\n",
    "safelySanitization = safelySanitization[safelySanitization['Dim1'] == 'Total']\n",
    "safelySanitization = safelySanitization[['Location','Period','First Tooltip']]\n",
    "safelySanitization = safelySanitization.rename(columns={'First Tooltip':'safelySanitization'})\n",
    "safelySanitization.info()"
   ]
  },
  {
   "cell_type": "code",
   "execution_count": 20,
   "metadata": {
    "papermill": {
     "duration": 0.108597,
     "end_time": "2021-01-10T14:10:01.795359",
     "exception": false,
     "start_time": "2021-01-10T14:10:01.686762",
     "status": "completed"
    },
    "tags": []
   },
   "outputs": [
    {
     "name": "stdout",
     "output_type": "stream",
     "text": [
      "<class 'pandas.core.frame.DataFrame'>\n",
      "Int64Index: 921 entries, 0 to 2723\n",
      "Data columns (total 3 columns):\n",
      " #   Column            Non-Null Count  Dtype         \n",
      "---  ------            --------------  -----         \n",
      " 0   Location          921 non-null    object        \n",
      " 1   Period            921 non-null    datetime64[ns]\n",
      " 2   basicHandWashing  921 non-null    float64       \n",
      "dtypes: datetime64[ns](1), float64(1), object(1)\n",
      "memory usage: 28.8+ KB\n"
     ]
    }
   ],
   "source": [
    "basicHandWashing = pd.read_csv('../csv/basicHandWashing.csv', parse_dates=['Period'])\n",
    "basicHandWashing = basicHandWashing[basicHandWashing['Dim1'] == 'Total']\n",
    "basicHandWashing = basicHandWashing[['Location','Period','First Tooltip']]\n",
    "basicHandWashing = basicHandWashing.rename(columns={'First Tooltip':'basicHandWashing'})\n",
    "basicHandWashing.info()"
   ]
  },
  {
   "cell_type": "markdown",
   "metadata": {
    "papermill": {
     "duration": 0.06971,
     "end_time": "2021-01-10T14:10:01.934909",
     "exception": false,
     "start_time": "2021-01-10T14:10:01.865199",
     "status": "completed"
    },
    "tags": []
   },
   "source": [
    "# Finance-universal health coverage (UHC)"
   ]
  },
  {
   "cell_type": "markdown",
   "metadata": {
    "papermill": {
     "duration": 0.068734,
     "end_time": "2021-01-10T14:10:02.073763",
     "exception": false,
     "start_time": "2021-01-10T14:10:02.005029",
     "status": "completed"
    },
    "tags": []
   },
   "source": [
    "## UHC service coverage index\n",
    "\n",
    "Coverage of essential health services (defined as the average coverage of essential services based on tracer interventions that include reproductive, maternal, newborn and child health, infectious diseases, non-communicable diseases and service capacity and access, among the general and the most disadvantaged population). The indicator is an index reported on a unitless scale of 0 to 100, which is computed as the geometric mean of 14 tracer indicators of health service coverage. The tracer indicators are as follows, organized by four components of service coverage: \n",
    "1. Reproductive, maternal, newborn and child health \n",
    "2. Infectious diseases \n",
    "3. Noncommunicable diseases \n",
    "4. Service capacity and access See the 2019 monitoring report for the tracer indicator within each component."
   ]
  },
  {
   "cell_type": "code",
   "execution_count": 21,
   "metadata": {
    "papermill": {
     "duration": 0.097004,
     "end_time": "2021-01-10T14:10:02.240814",
     "exception": false,
     "start_time": "2021-01-10T14:10:02.143810",
     "status": "completed"
    },
    "tags": []
   },
   "outputs": [
    {
     "name": "stdout",
     "output_type": "stream",
     "text": [
      "<class 'pandas.core.frame.DataFrame'>\n",
      "RangeIndex: 366 entries, 0 to 365\n",
      "Data columns (total 3 columns):\n",
      " #   Column       Non-Null Count  Dtype         \n",
      "---  ------       --------------  -----         \n",
      " 0   Location     366 non-null    object        \n",
      " 1   Period       366 non-null    datetime64[ns]\n",
      " 2   uhcCoverage  366 non-null    int64         \n",
      "dtypes: datetime64[ns](1), int64(1), object(1)\n",
      "memory usage: 8.7+ KB\n"
     ]
    }
   ],
   "source": [
    "uhcCoverage = pd.read_csv('../csv/uhcCoverage.csv', parse_dates=['Period'])\n",
    "uhcCoverage = uhcCoverage.rename(columns={'First Tooltip':'uhcCoverage'})\n",
    "uhcCoverage = uhcCoverage[['Location','Period','uhcCoverage']]\n",
    "uhcCoverage.info()"
   ]
  },
  {
   "cell_type": "markdown",
   "metadata": {
    "papermill": {
     "duration": 0.07004,
     "end_time": "2021-01-10T14:10:02.382883",
     "exception": false,
     "start_time": "2021-01-10T14:10:02.312843",
     "status": "completed"
    },
    "tags": []
   },
   "source": [
    "# Monitoring Sustainable Development Goals–Indicator 3.8.2\n",
    "\n",
    "https://www.who.int/health_financing/topics/financial-protection/monitoring-sdg/en/\n",
    "\n",
    "![](https://www.who.int/health_financing/topics/financial-protection/sdg-target-figure-491.jpg)"
   ]
  },
  {
   "cell_type": "code",
   "execution_count": 22,
   "metadata": {
    "papermill": {
     "duration": 0.104479,
     "end_time": "2021-01-10T14:10:02.557853",
     "exception": false,
     "start_time": "2021-01-10T14:10:02.453374",
     "status": "completed"
    },
    "tags": []
   },
   "outputs": [
    {
     "name": "stdout",
     "output_type": "stream",
     "text": [
      "<class 'pandas.core.frame.DataFrame'>\n",
      "Int64Index: 711 entries, 0 to 1890\n",
      "Data columns (total 5 columns):\n",
      " #   Column           Non-Null Count  Dtype         \n",
      "---  ------           --------------  -----         \n",
      " 0   Location         711 non-null    object        \n",
      " 1   Period           711 non-null    datetime64[ns]\n",
      " 2   Indicator        711 non-null    object        \n",
      " 3   Dim1             711 non-null    object        \n",
      " 4   population10SDG  711 non-null    float64       \n",
      "dtypes: datetime64[ns](1), float64(1), object(3)\n",
      "memory usage: 33.3+ KB\n"
     ]
    }
   ],
   "source": [
    "population10SDG = pd.read_csv('../csv/population10SDG3.8.2.csv', parse_dates=['Period']) \n",
    "population10SDG = population10SDG[population10SDG['Dim1'] == 'Total']\n",
    "population10SDG = population10SDG.rename(columns = {'First Tooltip':'population10SDG'})\n",
    "population10SDG.info()"
   ]
  },
  {
   "cell_type": "code",
   "execution_count": 23,
   "metadata": {
    "papermill": {
     "duration": 0.107,
     "end_time": "2021-01-10T14:10:02.735853",
     "exception": false,
     "start_time": "2021-01-10T14:10:02.628853",
     "status": "completed"
    },
    "tags": []
   },
   "outputs": [
    {
     "name": "stdout",
     "output_type": "stream",
     "text": [
      "<class 'pandas.core.frame.DataFrame'>\n",
      "Int64Index: 711 entries, 0 to 1890\n",
      "Data columns (total 5 columns):\n",
      " #   Column           Non-Null Count  Dtype         \n",
      "---  ------           --------------  -----         \n",
      " 0   Location         711 non-null    object        \n",
      " 1   Period           711 non-null    datetime64[ns]\n",
      " 2   Indicator        711 non-null    object        \n",
      " 3   Dim1             711 non-null    object        \n",
      " 4   population25SDG  711 non-null    float64       \n",
      "dtypes: datetime64[ns](1), float64(1), object(3)\n",
      "memory usage: 33.3+ KB\n"
     ]
    }
   ],
   "source": [
    "population25SDG = pd.read_csv('../csv/population25SDG3.8.2.csv', parse_dates=['Period']) \n",
    "population25SDG = population25SDG[population25SDG['Dim1'] == 'Total']\n",
    "population25SDG = population25SDG.rename(columns = {'First Tooltip':'population25SDG'})\n",
    "population25SDG.info()"
   ]
  },
  {
   "cell_type": "code",
   "execution_count": 24,
   "metadata": {
    "papermill": {
     "duration": 0.102984,
     "end_time": "2021-01-10T14:10:02.912263",
     "exception": false,
     "start_time": "2021-01-10T14:10:02.809279",
     "status": "completed"
    },
    "tags": []
   },
   "outputs": [
    {
     "name": "stdout",
     "output_type": "stream",
     "text": [
      "<class 'pandas.core.frame.DataFrame'>\n",
      "Int64Index: 711 entries, 0 to 710\n",
      "Data columns (total 4 columns):\n",
      " #   Column           Non-Null Count  Dtype         \n",
      "---  ------           --------------  -----         \n",
      " 0   Location         711 non-null    object        \n",
      " 1   Period           711 non-null    datetime64[ns]\n",
      " 2   population10SDG  711 non-null    float64       \n",
      " 3   population25SDG  711 non-null    float64       \n",
      "dtypes: datetime64[ns](1), float64(2), object(1)\n",
      "memory usage: 27.8+ KB\n"
     ]
    }
   ],
   "source": [
    "populationSDG = pd.merge(population10SDG[['Location','Period', 'population10SDG']], population25SDG[['Location','Period', 'population25SDG']], on=['Location','Period'] )\n",
    "populationSDG.info()"
   ]
  },
  {
   "cell_type": "markdown",
   "metadata": {
    "papermill": {
     "duration": 0.073574,
     "end_time": "2021-01-10T14:10:03.772973",
     "exception": false,
     "start_time": "2021-01-10T14:10:03.699399",
     "status": "completed"
    },
    "tags": []
   },
   "source": [
    "# Machine learning"
   ]
  },
  {
   "cell_type": "markdown",
   "metadata": {
    "papermill": {
     "duration": 0.074202,
     "end_time": "2021-01-10T14:10:03.064942",
     "exception": false,
     "start_time": "2021-01-10T14:10:02.990740",
     "status": "completed"
    },
    "tags": []
   },
   "source": [
    "# Prepare data for machine learning"
   ]
  },
  {
   "cell_type": "code",
   "execution_count": 25,
   "metadata": {
    "papermill": {
     "duration": 0.129786,
     "end_time": "2021-01-10T14:10:03.268008",
     "exception": false,
     "start_time": "2021-01-10T14:10:03.138222",
     "status": "completed"
    },
    "tags": []
   },
   "outputs": [
    {
     "data": {
      "text/html": [
       "<div>\n",
       "<style scoped>\n",
       "    .dataframe tbody tr th:only-of-type {\n",
       "        vertical-align: middle;\n",
       "    }\n",
       "\n",
       "    .dataframe tbody tr th {\n",
       "        vertical-align: top;\n",
       "    }\n",
       "\n",
       "    .dataframe thead th {\n",
       "        text-align: right;\n",
       "    }\n",
       "</style>\n",
       "<table border=\"1\" class=\"dataframe\">\n",
       "  <thead>\n",
       "    <tr style=\"text-align: right;\">\n",
       "      <th></th>\n",
       "      <th>birthAttendedBySkilledPersonal</th>\n",
       "      <th>medicalDoctors</th>\n",
       "      <th>nursingAndMidwife</th>\n",
       "      <th>pharmacists</th>\n",
       "    </tr>\n",
       "  </thead>\n",
       "  <tbody>\n",
       "    <tr>\n",
       "      <th>count</th>\n",
       "      <td>1755.000000</td>\n",
       "      <td>2506.000000</td>\n",
       "      <td>2587.000000</td>\n",
       "      <td>1795.000000</td>\n",
       "    </tr>\n",
       "    <tr>\n",
       "      <th>mean</th>\n",
       "      <td>92.045442</td>\n",
       "      <td>20.685012</td>\n",
       "      <td>45.417905</td>\n",
       "      <td>4.124118</td>\n",
       "    </tr>\n",
       "    <tr>\n",
       "      <th>std</th>\n",
       "      <td>16.557089</td>\n",
       "      <td>14.299267</td>\n",
       "      <td>38.810124</td>\n",
       "      <td>3.624610</td>\n",
       "    </tr>\n",
       "    <tr>\n",
       "      <th>min</th>\n",
       "      <td>5.700000</td>\n",
       "      <td>0.130000</td>\n",
       "      <td>0.012000</td>\n",
       "      <td>0.002000</td>\n",
       "    </tr>\n",
       "    <tr>\n",
       "      <th>25%</th>\n",
       "      <td>95.350000</td>\n",
       "      <td>7.782500</td>\n",
       "      <td>11.835000</td>\n",
       "      <td>0.790000</td>\n",
       "    </tr>\n",
       "    <tr>\n",
       "      <th>50%</th>\n",
       "      <td>99.000000</td>\n",
       "      <td>21.280000</td>\n",
       "      <td>37.450000</td>\n",
       "      <td>3.530000</td>\n",
       "    </tr>\n",
       "    <tr>\n",
       "      <th>75%</th>\n",
       "      <td>99.800000</td>\n",
       "      <td>31.660000</td>\n",
       "      <td>66.165000</td>\n",
       "      <td>6.390000</td>\n",
       "    </tr>\n",
       "    <tr>\n",
       "      <th>max</th>\n",
       "      <td>100.000000</td>\n",
       "      <td>84.220000</td>\n",
       "      <td>201.600000</td>\n",
       "      <td>26.300000</td>\n",
       "    </tr>\n",
       "  </tbody>\n",
       "</table>\n",
       "</div>"
      ],
      "text/plain": [
       "       birthAttendedBySkilledPersonal  medicalDoctors  nursingAndMidwife  \\\n",
       "count                     1755.000000     2506.000000        2587.000000   \n",
       "mean                        92.045442       20.685012          45.417905   \n",
       "std                         16.557089       14.299267          38.810124   \n",
       "min                          5.700000        0.130000           0.012000   \n",
       "25%                         95.350000        7.782500          11.835000   \n",
       "50%                         99.000000       21.280000          37.450000   \n",
       "75%                         99.800000       31.660000          66.165000   \n",
       "max                        100.000000       84.220000         201.600000   \n",
       "\n",
       "       pharmacists  \n",
       "count  1795.000000  \n",
       "mean      4.124118  \n",
       "std       3.624610  \n",
       "min       0.002000  \n",
       "25%       0.790000  \n",
       "50%       3.530000  \n",
       "75%       6.390000  \n",
       "max      26.300000  "
      ]
     },
     "execution_count": 25,
     "metadata": {},
     "output_type": "execute_result"
    }
   ],
   "source": [
    "# Merge medicine\n",
    "df_medicine =  pd.merge(birthAttendedBySkilledPersonal_s, medicalDoctors_s, how='outer', on=['Period','Location'])\n",
    "df_medicine = pd.merge(df_medicine,nursingAndMidwife_s, how='outer', on=['Period','Location'] )\n",
    "df_medicine = pd.merge(df_medicine,pharmacists_s, how='outer', on=['Period','Location'] )\n",
    "df_medicine.describe()"
   ]
  },
  {
   "cell_type": "code",
   "execution_count": 26,
   "metadata": {
    "papermill": {
     "duration": 0.10973,
     "end_time": "2021-01-10T14:10:03.452920",
     "exception": false,
     "start_time": "2021-01-10T14:10:03.343190",
     "status": "completed"
    },
    "tags": []
   },
   "outputs": [
    {
     "name": "stdout",
     "output_type": "stream",
     "text": [
      "<class 'pandas.core.frame.DataFrame'>\n",
      "Int64Index: 3463 entries, 0 to 3462\n",
      "Data columns (total 6 columns):\n",
      " #   Column                            Non-Null Count  Dtype         \n",
      "---  ------                            --------------  -----         \n",
      " 0   Location                          3463 non-null   object        \n",
      " 1   Period                            3463 non-null   datetime64[ns]\n",
      " 2   basicDrinkingWaterServices        3455 non-null   float64       \n",
      " 3   atLeastBasicSanitizationServices  3439 non-null   float64       \n",
      " 4   safelySanitization                1571 non-null   float64       \n",
      " 5   basicHandWashing                  921 non-null    float64       \n",
      "dtypes: datetime64[ns](1), float64(4), object(1)\n",
      "memory usage: 189.4+ KB\n"
     ]
    }
   ],
   "source": [
    "# Merge hygiene\n",
    "df_hygiene = pd.merge(basicDrinkingWaterServices, atLeastBasicSanitizationServices, how='outer', on=['Period','Location'])\n",
    "df_hygiene = pd.merge(df_hygiene, safelySanitization, how='outer', on=['Period','Location'])\n",
    "df_hygiene = pd.merge(df_hygiene, basicHandWashing, how='outer', on=['Period','Location'])\n",
    "df_hygiene.info()"
   ]
  },
  {
   "cell_type": "code",
   "execution_count": 27,
   "metadata": {
    "papermill": {
     "duration": 0.095887,
     "end_time": "2021-01-10T14:10:03.624186",
     "exception": false,
     "start_time": "2021-01-10T14:10:03.528299",
     "status": "completed"
    },
    "tags": []
   },
   "outputs": [
    {
     "name": "stdout",
     "output_type": "stream",
     "text": [
      "<class 'pandas.core.frame.DataFrame'>\n",
      "Int64Index: 1051 entries, 0 to 1050\n",
      "Data columns (total 5 columns):\n",
      " #   Column           Non-Null Count  Dtype         \n",
      "---  ------           --------------  -----         \n",
      " 0   Location         1051 non-null   object        \n",
      " 1   Period           1051 non-null   datetime64[ns]\n",
      " 2   uhcCoverage      366 non-null    float64       \n",
      " 3   population10SDG  711 non-null    float64       \n",
      " 4   population25SDG  711 non-null    float64       \n",
      "dtypes: datetime64[ns](1), float64(3), object(1)\n",
      "memory usage: 49.3+ KB\n"
     ]
    }
   ],
   "source": [
    "# Merge finance\n",
    "df_finance = pd.merge(uhcCoverage, populationSDG, on=['Location', 'Period'], how='outer')\n",
    "df_finance.info()"
   ]
  },
  {
   "cell_type": "markdown",
   "metadata": {
    "papermill": {
     "duration": 0.074458,
     "end_time": "2021-01-10T14:10:03.921943",
     "exception": false,
     "start_time": "2021-01-10T14:10:03.847485",
     "status": "completed"
    },
    "tags": []
   },
   "source": [
    "## Maternal mortality"
   ]
  },
  {
   "cell_type": "code",
   "execution_count": 28,
   "metadata": {
    "papermill": {
     "duration": 0.112621,
     "end_time": "2021-01-10T14:10:04.106775",
     "exception": false,
     "start_time": "2021-01-10T14:10:03.994154",
     "status": "completed"
    },
    "tags": []
   },
   "outputs": [
    {
     "name": "stdout",
     "output_type": "stream",
     "text": [
      "<class 'pandas.core.frame.DataFrame'>\n",
      "Int64Index: 4312 entries, 0 to 4311\n",
      "Data columns (total 14 columns):\n",
      " #   Column                            Non-Null Count  Dtype         \n",
      "---  ------                            --------------  -----         \n",
      " 0   Location                          4312 non-null   object        \n",
      " 1   Period                            4312 non-null   datetime64[ns]\n",
      " 2   maternalMortalityRatio            3294 non-null   float64       \n",
      " 3   birthAttendedBySkilledPersonal    1755 non-null   float64       \n",
      " 4   medicalDoctors                    2506 non-null   float64       \n",
      " 5   nursingAndMidwife                 2587 non-null   float64       \n",
      " 6   pharmacists                       1795 non-null   float64       \n",
      " 7   basicDrinkingWaterServices        3455 non-null   float64       \n",
      " 8   atLeastBasicSanitizationServices  3439 non-null   float64       \n",
      " 9   safelySanitization                1571 non-null   float64       \n",
      " 10  basicHandWashing                  921 non-null    float64       \n",
      " 11  uhcCoverage                       366 non-null    float64       \n",
      " 12  population10SDG                   711 non-null    float64       \n",
      " 13  population25SDG                   711 non-null    float64       \n",
      "dtypes: datetime64[ns](1), float64(12), object(1)\n",
      "memory usage: 505.3+ KB\n"
     ]
    }
   ],
   "source": [
    "df_maternal = pd.merge(maternalMortalityRatio_s, df_medicine, on = ['Location','Period'],how='outer')\n",
    "df_maternal = pd.merge(df_maternal, df_hygiene, on = ['Location','Period'],how='outer')\n",
    "df_maternal = pd.merge(df_maternal, df_finance, on = ['Location','Period'],how='outer')\n",
    "df_maternal.info()"
   ]
  },
  {
   "cell_type": "code",
   "execution_count": 29,
   "metadata": {
    "papermill": {
     "duration": 0.127773,
     "end_time": "2021-01-10T14:10:04.308500",
     "exception": false,
     "start_time": "2021-01-10T14:10:04.180727",
     "status": "completed"
    },
    "tags": []
   },
   "outputs": [],
   "source": [
    "# Need to change some country name to use pycountry\n",
    "df_maternal.loc[df_maternal['Location'] == \"Sudan (until 2011)\", 'Location'] = 'Sudan'\n",
    "df_maternal.loc[df_maternal['Location'] == \"Bolivia (Plurinational State of)\", 'Location'] = 'Bolivia, Plurinational State of'\n",
    "df_maternal.loc[df_maternal['Location'] == \"Côte d’Ivoire\", 'Location'] = 'Ivory Coast'\n",
    "df_maternal.loc[df_maternal['Location'] == \"Iran (Islamic Republic of)\", 'Location'] = 'Iran, Islamic Republic of'\n",
    "df_maternal.loc[df_maternal['Location'] == \"Micronesia (Federated States of)\", 'Location'] = 'Micronesia'\n",
    "df_maternal.loc[df_maternal['Location'] == \"Republic of Korea\", 'Location'] = 'Korea, Republic of'\n",
    "df_maternal.loc[df_maternal['Location'] == \"The former Yugoslav Republic of Macedonia\", 'Location'] = 'North Macedonia'\n",
    "df_maternal.loc[df_maternal['Location'] == \"Venezuela (Bolivarian Republic of)\", 'Location'] = 'Venezuela, Bolivarian Republic of'\n",
    "df_maternal.loc[df_maternal['Location'] == \"Germany, Federal Republic (former)\", 'Location'] = 'Germany'\n",
    "df_maternal.loc[df_maternal['Location'] == \"India (until 1975)\", 'Location'] = 'India'\n",
    "df_maternal.loc[df_maternal['Location'] == \"Kiribati (until 1984)\", 'Location'] = 'Kiribati'\n",
    "df_maternal.loc[df_maternal['Location'] == \"South Viet Nam (former)\", 'Location'] = 'Viet Nam'\n",
    "df_maternal.loc[df_maternal['Location'] == 'Yemen Arab Republic (until 1990)', 'Location'] = 'Yemen'\n",
    "df_maternal.loc[df_maternal['Location'] == 'State of Palestine', 'Location'] = 'Palestine, State of'\n",
    "\n",
    "df_maternal['country_code'] = df_maternal['Location'].apply(pc.country_name_to_country_alpha2)\n",
    "df_maternal['continent'] = df_maternal['country_code'].apply(lambda x: convert_continent(x))"
   ]
  },
  {
   "cell_type": "code",
   "execution_count": 30,
   "metadata": {
    "papermill": {
     "duration": 3.017449,
     "end_time": "2021-01-10T14:10:07.410545",
     "exception": false,
     "start_time": "2021-01-10T14:10:04.393096",
     "status": "completed"
    },
    "tags": []
   },
   "outputs": [],
   "source": [
    "# Interpolate missing data within country\n",
    "country_list = df_maternal['Location'].unique()\n",
    "\n",
    "for country in country_list:\n",
    "    df_country = df_maternal[df_maternal['Location'] == country] \n",
    "    df_country = df_country.sort_values('Period')\n",
    "    for i in range(2, 14):\n",
    "        df_country.iloc[:,i] = df_country.iloc[:,i].interpolate(method='linear', limit_direction='both')\n",
    "    \n",
    "    # drop the rows with the country\n",
    "    df_maternal = df_maternal[df_maternal['Location'] != country]\n",
    "    # Append fixed list to main list\n",
    "    df_maternal = df_maternal.append(df_country)\n",
    "    \n",
    "df_maternal = df_maternal.sort_index()"
   ]
  },
  {
   "cell_type": "code",
   "execution_count": 31,
   "metadata": {
    "papermill": {
     "duration": 0.206188,
     "end_time": "2021-01-10T14:10:07.711875",
     "exception": false,
     "start_time": "2021-01-10T14:10:07.505687",
     "status": "completed"
    },
    "tags": []
   },
   "outputs": [],
   "source": [
    "# Prepare data for KNNImputer\n",
    "from sklearn.preprocessing import LabelEncoder\n",
    "\n",
    "le = LabelEncoder()\n",
    "df_maternal['Location'] = le.fit_transform(df_maternal['Location'])\n",
    "df_maternal['continent'] = le.fit_transform(df_maternal['continent'])\n",
    "\n",
    "df_maternal = df_maternal.drop(['country_code'], axis=1)\n",
    "\n",
    "# Convert time to float\n",
    "df_maternal['Period'] = df_maternal['Period'].apply(lambda x: x.toordinal())\n",
    "column_names = df_maternal.columns"
   ]
  },
  {
   "cell_type": "code",
   "execution_count": 32,
   "metadata": {
    "papermill": {
     "duration": 0.09971,
     "end_time": "2021-01-10T14:10:07.886391",
     "exception": false,
     "start_time": "2021-01-10T14:10:07.786681",
     "status": "completed"
    },
    "tags": []
   },
   "outputs": [
    {
     "name": "stdout",
     "output_type": "stream",
     "text": [
      "<class 'pandas.core.frame.DataFrame'>\n",
      "Int64Index: 4312 entries, 0 to 4311\n",
      "Data columns (total 15 columns):\n",
      " #   Column                            Non-Null Count  Dtype  \n",
      "---  ------                            --------------  -----  \n",
      " 0   Location                          4312 non-null   int32  \n",
      " 1   Period                            4312 non-null   int64  \n",
      " 2   maternalMortalityRatio            4086 non-null   float64\n",
      " 3   birthAttendedBySkilledPersonal    4054 non-null   float64\n",
      " 4   medicalDoctors                    4290 non-null   float64\n",
      " 5   nursingAndMidwife                 4290 non-null   float64\n",
      " 6   pharmacists                       4081 non-null   float64\n",
      " 7   basicDrinkingWaterServices        4308 non-null   float64\n",
      " 8   atLeastBasicSanitizationServices  4308 non-null   float64\n",
      " 9   safelySanitization                2106 non-null   float64\n",
      " 10  basicHandWashing                  1986 non-null   float64\n",
      " 11  uhcCoverage                       4086 non-null   float64\n",
      " 12  population10SDG                   3483 non-null   float64\n",
      " 13  population25SDG                   3483 non-null   float64\n",
      " 14  continent                         4312 non-null   int32  \n",
      "dtypes: float64(12), int32(2), int64(1)\n",
      "memory usage: 505.3 KB\n"
     ]
    }
   ],
   "source": [
    "df_maternal.info()"
   ]
  },
  {
   "cell_type": "code",
   "execution_count": 33,
   "metadata": {
    "papermill": {
     "duration": 1.644969,
     "end_time": "2021-01-10T14:10:09.606123",
     "exception": false,
     "start_time": "2021-01-10T14:10:07.961154",
     "status": "completed"
    },
    "tags": []
   },
   "outputs": [
    {
     "name": "stdout",
     "output_type": "stream",
     "text": [
      "<class 'pandas.core.frame.DataFrame'>\n",
      "RangeIndex: 4312 entries, 0 to 4311\n",
      "Data columns (total 15 columns):\n",
      " #   Column                            Non-Null Count  Dtype  \n",
      "---  ------                            --------------  -----  \n",
      " 0   Location                          4312 non-null   float64\n",
      " 1   Period                            4312 non-null   float64\n",
      " 2   maternalMortalityRatio            4312 non-null   float64\n",
      " 3   birthAttendedBySkilledPersonal    4312 non-null   float64\n",
      " 4   medicalDoctors                    4312 non-null   float64\n",
      " 5   nursingAndMidwife                 4312 non-null   float64\n",
      " 6   pharmacists                       4312 non-null   float64\n",
      " 7   basicDrinkingWaterServices        4312 non-null   float64\n",
      " 8   atLeastBasicSanitizationServices  4312 non-null   float64\n",
      " 9   safelySanitization                4312 non-null   float64\n",
      " 10  basicHandWashing                  4312 non-null   float64\n",
      " 11  uhcCoverage                       4312 non-null   float64\n",
      " 12  population10SDG                   4312 non-null   float64\n",
      " 13  population25SDG                   4312 non-null   float64\n",
      " 14  continent                         4312 non-null   float64\n",
      "dtypes: float64(15)\n",
      "memory usage: 505.4 KB\n"
     ]
    }
   ],
   "source": [
    "from sklearn.impute import KNNImputer\n",
    "imputer = KNNImputer(n_neighbors=5)\n",
    "df_maternal_imputed = pd.DataFrame(imputer.fit_transform(df_maternal), columns = column_names) \n",
    "df_maternal_imputed.info()"
   ]
  },
  {
   "cell_type": "code",
   "execution_count": 34,
   "metadata": {
    "papermill": {
     "duration": 0.100464,
     "end_time": "2021-01-10T14:10:09.785459",
     "exception": false,
     "start_time": "2021-01-10T14:10:09.684995",
     "status": "completed"
    },
    "tags": []
   },
   "outputs": [],
   "source": [
    "from sklearn.model_selection import train_test_split\n",
    "from sklearn.preprocessing import StandardScaler\n",
    "from sklearn.pipeline import Pipeline\n",
    "\n",
    "numerical_cols = ['medicalDoctors', 'nursingAndMidwife', 'pharmacists', 'basicDrinkingWaterServices','atLeastBasicSanitizationServices', 'safelySanitization','basicHandWashing', 'uhcCoverage',\n",
    "       'population10SDG', 'population25SDG', 'continent']\n",
    "\n",
    "Y = np.array(df_maternal_imputed['maternalMortalityRatio']).reshape(-1, 1)\n",
    "# Y = df_maternal_imputed['maternalMortalityRatio']\n",
    "scaler = StandardScaler()\n",
    "Y = scaler.fit_transform(Y)\n",
    "\n",
    "df_maternal_imputed.pop('maternalMortalityRatio')\n",
    "X = df_maternal_imputed\n",
    "X[numerical_cols] = scaler.fit_transform(X[numerical_cols])\n",
    "\n",
    "# stratify - make sure classes are evenlly represented across splits\n",
    "X_train, X_valid, y_train, y_valid = train_test_split(X, Y, train_size=0.75)"
   ]
  },
  {
   "cell_type": "markdown",
   "metadata": {
    "papermill": {
     "duration": 0.075234,
     "end_time": "2021-01-10T14:10:09.938261",
     "exception": false,
     "start_time": "2021-01-10T14:10:09.863027",
     "status": "completed"
    },
    "tags": []
   },
   "source": [
    "### Lasso\n",
    "\n",
    "1. Evaluate LASSO parameter\n",
    "2. Fit model and check coefficient"
   ]
  },
  {
   "cell_type": "code",
   "execution_count": 69,
   "metadata": {
    "papermill": {
     "duration": 0.084429,
     "end_time": "2021-01-10T14:10:10.098027",
     "exception": false,
     "start_time": "2021-01-10T14:10:10.013598",
     "status": "completed"
    },
    "tags": []
   },
   "outputs": [
    {
     "name": "stdout",
     "output_type": "stream",
     "text": [
      "MAE: -0.349\n",
      "Config: {'alpha': 0.02}\n"
     ]
    }
   ],
   "source": [
    "# grid search hyperparameters for lasso regression\n",
    "from numpy import arange\n",
    "from sklearn.model_selection import GridSearchCV\n",
    "from sklearn.model_selection import RepeatedKFold\n",
    "from sklearn.linear_model import Lasso\n",
    "# define model\n",
    "model = Lasso()\n",
    "# define model evaluation method\n",
    "cv = RepeatedKFold(n_splits=10, n_repeats=3, random_state=1)\n",
    "# define grid\n",
    "grid = dict()\n",
    "grid['alpha'] = arange(0, 1, 0.01)\n",
    "# define search\n",
    "search = GridSearchCV(model, grid, scoring='neg_mean_absolute_error', cv=cv, n_jobs=-1)\n",
    "# perform the search\n",
    "results = search.fit(X_train, y_train)\n",
    "# summarize\n",
    "print('MAE: %.3f' % results.best_score_)\n",
    "print('Config: %s' % results.best_params_)"
   ]
  },
  {
   "cell_type": "code",
   "execution_count": 70,
   "metadata": {
    "papermill": {
     "duration": 0.111436,
     "end_time": "2021-01-10T14:10:10.435667",
     "exception": false,
     "start_time": "2021-01-10T14:10:10.324231",
     "status": "completed"
    },
    "tags": []
   },
   "outputs": [
    {
     "name": "stdout",
     "output_type": "stream",
     "text": [
      "RMSE = 0.47666958832175177\n",
      "R-square = 0.7817769662314386\n",
      "[-4.00590521e-04 -7.06488674e-05 -1.22935643e-02 -0.00000000e+00\n",
      " -0.00000000e+00 -0.00000000e+00 -7.60500865e-02 -0.00000000e+00\n",
      " -1.64950246e-01 -8.05454587e-02 -1.27179741e-01  0.00000000e+00\n",
      "  0.00000000e+00 -8.49815792e-02]\n",
      "[52.36357909]\n"
     ]
    },
    {
     "data": {
      "text/html": [
       "<div>\n",
       "<style scoped>\n",
       "    .dataframe tbody tr th:only-of-type {\n",
       "        vertical-align: middle;\n",
       "    }\n",
       "\n",
       "    .dataframe tbody tr th {\n",
       "        vertical-align: top;\n",
       "    }\n",
       "\n",
       "    .dataframe thead th {\n",
       "        text-align: right;\n",
       "    }\n",
       "</style>\n",
       "<table border=\"1\" class=\"dataframe\">\n",
       "  <thead>\n",
       "    <tr style=\"text-align: right;\">\n",
       "      <th></th>\n",
       "      <th>0</th>\n",
       "    </tr>\n",
       "  </thead>\n",
       "  <tbody>\n",
       "    <tr>\n",
       "      <th>safelySanitization</th>\n",
       "      <td>-0.164950</td>\n",
       "    </tr>\n",
       "    <tr>\n",
       "      <th>uhcCoverage</th>\n",
       "      <td>-0.127180</td>\n",
       "    </tr>\n",
       "    <tr>\n",
       "      <th>continent</th>\n",
       "      <td>-0.084982</td>\n",
       "    </tr>\n",
       "    <tr>\n",
       "      <th>basicHandWashing</th>\n",
       "      <td>-0.080545</td>\n",
       "    </tr>\n",
       "    <tr>\n",
       "      <th>basicDrinkingWaterServices</th>\n",
       "      <td>-0.076050</td>\n",
       "    </tr>\n",
       "    <tr>\n",
       "      <th>birthAttendedBySkilledPersonal</th>\n",
       "      <td>-0.012294</td>\n",
       "    </tr>\n",
       "    <tr>\n",
       "      <th>Location</th>\n",
       "      <td>-0.000401</td>\n",
       "    </tr>\n",
       "    <tr>\n",
       "      <th>Period</th>\n",
       "      <td>-0.000071</td>\n",
       "    </tr>\n",
       "    <tr>\n",
       "      <th>medicalDoctors</th>\n",
       "      <td>-0.000000</td>\n",
       "    </tr>\n",
       "    <tr>\n",
       "      <th>nursingAndMidwife</th>\n",
       "      <td>-0.000000</td>\n",
       "    </tr>\n",
       "    <tr>\n",
       "      <th>pharmacists</th>\n",
       "      <td>-0.000000</td>\n",
       "    </tr>\n",
       "    <tr>\n",
       "      <th>atLeastBasicSanitizationServices</th>\n",
       "      <td>-0.000000</td>\n",
       "    </tr>\n",
       "    <tr>\n",
       "      <th>population10SDG</th>\n",
       "      <td>0.000000</td>\n",
       "    </tr>\n",
       "    <tr>\n",
       "      <th>population25SDG</th>\n",
       "      <td>0.000000</td>\n",
       "    </tr>\n",
       "  </tbody>\n",
       "</table>\n",
       "</div>"
      ],
      "text/plain": [
       "                                         0\n",
       "safelySanitization               -0.164950\n",
       "uhcCoverage                      -0.127180\n",
       "continent                        -0.084982\n",
       "basicHandWashing                 -0.080545\n",
       "basicDrinkingWaterServices       -0.076050\n",
       "birthAttendedBySkilledPersonal   -0.012294\n",
       "Location                         -0.000401\n",
       "Period                           -0.000071\n",
       "medicalDoctors                   -0.000000\n",
       "nursingAndMidwife                -0.000000\n",
       "pharmacists                      -0.000000\n",
       "atLeastBasicSanitizationServices -0.000000\n",
       "population10SDG                   0.000000\n",
       "population25SDG                   0.000000"
      ]
     },
     "execution_count": 70,
     "metadata": {},
     "output_type": "execute_result"
    }
   ],
   "source": [
    "from sklearn.metrics import mean_squared_error\n",
    "from sklearn.metrics import r2_score\n",
    "\n",
    "clf = Lasso(alpha=0.02).fit(X_train, y_train)\n",
    "prediction = clf.predict(X_valid)\n",
    "print(f\"RMSE = {np.sqrt(mean_squared_error(y_valid,prediction))}\" ) \n",
    "print(f\"R-square = {r2_score(y_valid, prediction)}\" )\n",
    "print(clf.coef_)\n",
    "print(clf.intercept_)\n",
    "pd.DataFrame(clf.coef_, index= df_maternal_imputed.columns ).sort_values(0)"
   ]
  },
  {
   "cell_type": "markdown",
   "metadata": {
    "papermill": {
     "duration": 0.07743,
     "end_time": "2021-01-10T14:10:10.596525",
     "exception": false,
     "start_time": "2021-01-10T14:10:10.519095",
     "status": "completed"
    },
    "tags": []
   },
   "source": [
    "### Elastic Net\n",
    "\n",
    "1. Evaluate elastic net parameter\n",
    "2. Fit model and check coefficient"
   ]
  },
  {
   "cell_type": "code",
   "execution_count": 71,
   "metadata": {
    "papermill": {
     "duration": 0.083963,
     "end_time": "2021-01-10T14:10:10.756702",
     "exception": false,
     "start_time": "2021-01-10T14:10:10.672739",
     "status": "completed"
    },
    "tags": []
   },
   "outputs": [
    {
     "name": "stdout",
     "output_type": "stream",
     "text": [
      "MAE: -0.349\n",
      "Config: {'alpha': 0.1, 'l1_ratio': 0.2}\n"
     ]
    }
   ],
   "source": [
    "# grid search hyperparameters for the elastic net\n",
    "from sklearn.linear_model import ElasticNet\n",
    "# define model\n",
    "model = ElasticNet()\n",
    "# define model evaluation method\n",
    "cv = RepeatedKFold(n_splits=10, n_repeats=3, random_state=1)\n",
    "# define grid\n",
    "grid = dict()\n",
    "grid['alpha'] = [1e-5, 1e-4, 1e-3, 1e-2, 1e-1, 0.0, 1.0, 10.0, 100.0]\n",
    "grid['l1_ratio'] = arange(0, 1, 0.01)\n",
    "# define search\n",
    "search = GridSearchCV(model, grid, scoring='neg_mean_absolute_error', cv=cv, n_jobs=-1)\n",
    "# perform the search\n",
    "results = search.fit(X_train, y_train)\n",
    "# summarize\n",
    "print('MAE: %.3f' % results.best_score_)\n",
    "print('Config: %s' % results.best_params_)"
   ]
  },
  {
   "cell_type": "code",
   "execution_count": 72,
   "metadata": {
    "papermill": {
     "duration": 0.107559,
     "end_time": "2021-01-10T14:10:11.094512",
     "exception": false,
     "start_time": "2021-01-10T14:10:10.986953",
     "status": "completed"
    },
    "tags": []
   },
   "outputs": [
    {
     "name": "stdout",
     "output_type": "stream",
     "text": [
      "RMSE = 0.4779676914844199\n",
      "R-square = 0.7805867844504955\n",
      "[-4.21346729e-04 -7.03014655e-05 -1.31846456e-02 -0.00000000e+00\n",
      " -0.00000000e+00 -7.04205828e-03 -7.92101339e-02 -3.94482617e-03\n",
      " -1.44997261e-01 -7.83057119e-02 -1.09015082e-01  0.00000000e+00\n",
      "  0.00000000e+00 -7.95602643e-02]\n",
      "[52.18610006]\n"
     ]
    },
    {
     "data": {
      "text/html": [
       "<div>\n",
       "<style scoped>\n",
       "    .dataframe tbody tr th:only-of-type {\n",
       "        vertical-align: middle;\n",
       "    }\n",
       "\n",
       "    .dataframe tbody tr th {\n",
       "        vertical-align: top;\n",
       "    }\n",
       "\n",
       "    .dataframe thead th {\n",
       "        text-align: right;\n",
       "    }\n",
       "</style>\n",
       "<table border=\"1\" class=\"dataframe\">\n",
       "  <thead>\n",
       "    <tr style=\"text-align: right;\">\n",
       "      <th></th>\n",
       "      <th>0</th>\n",
       "    </tr>\n",
       "  </thead>\n",
       "  <tbody>\n",
       "    <tr>\n",
       "      <th>safelySanitization</th>\n",
       "      <td>-0.144997</td>\n",
       "    </tr>\n",
       "    <tr>\n",
       "      <th>uhcCoverage</th>\n",
       "      <td>-0.109015</td>\n",
       "    </tr>\n",
       "    <tr>\n",
       "      <th>continent</th>\n",
       "      <td>-0.079560</td>\n",
       "    </tr>\n",
       "    <tr>\n",
       "      <th>basicDrinkingWaterServices</th>\n",
       "      <td>-0.079210</td>\n",
       "    </tr>\n",
       "    <tr>\n",
       "      <th>basicHandWashing</th>\n",
       "      <td>-0.078306</td>\n",
       "    </tr>\n",
       "    <tr>\n",
       "      <th>birthAttendedBySkilledPersonal</th>\n",
       "      <td>-0.013185</td>\n",
       "    </tr>\n",
       "    <tr>\n",
       "      <th>pharmacists</th>\n",
       "      <td>-0.007042</td>\n",
       "    </tr>\n",
       "    <tr>\n",
       "      <th>atLeastBasicSanitizationServices</th>\n",
       "      <td>-0.003945</td>\n",
       "    </tr>\n",
       "    <tr>\n",
       "      <th>Location</th>\n",
       "      <td>-0.000421</td>\n",
       "    </tr>\n",
       "    <tr>\n",
       "      <th>Period</th>\n",
       "      <td>-0.000070</td>\n",
       "    </tr>\n",
       "    <tr>\n",
       "      <th>medicalDoctors</th>\n",
       "      <td>-0.000000</td>\n",
       "    </tr>\n",
       "    <tr>\n",
       "      <th>nursingAndMidwife</th>\n",
       "      <td>-0.000000</td>\n",
       "    </tr>\n",
       "    <tr>\n",
       "      <th>population10SDG</th>\n",
       "      <td>0.000000</td>\n",
       "    </tr>\n",
       "    <tr>\n",
       "      <th>population25SDG</th>\n",
       "      <td>0.000000</td>\n",
       "    </tr>\n",
       "  </tbody>\n",
       "</table>\n",
       "</div>"
      ],
      "text/plain": [
       "                                         0\n",
       "safelySanitization               -0.144997\n",
       "uhcCoverage                      -0.109015\n",
       "continent                        -0.079560\n",
       "basicDrinkingWaterServices       -0.079210\n",
       "basicHandWashing                 -0.078306\n",
       "birthAttendedBySkilledPersonal   -0.013185\n",
       "pharmacists                      -0.007042\n",
       "atLeastBasicSanitizationServices -0.003945\n",
       "Location                         -0.000421\n",
       "Period                           -0.000070\n",
       "medicalDoctors                   -0.000000\n",
       "nursingAndMidwife                -0.000000\n",
       "population10SDG                   0.000000\n",
       "population25SDG                   0.000000"
      ]
     },
     "execution_count": 72,
     "metadata": {},
     "output_type": "execute_result"
    }
   ],
   "source": [
    "from sklearn.linear_model import ElasticNet\n",
    "eNet = ElasticNet(alpha = 0.1, l1_ratio = 0.2,random_state=1).fit(X_train, y_train)\n",
    "prediction = eNet.predict(X_valid)\n",
    "print(f\"RMSE = {np.sqrt(mean_squared_error(y_valid,prediction))}\" ) \n",
    "print(f\"R-square = {r2_score(y_valid, prediction)}\" )\n",
    "\n",
    "print(eNet.coef_)\n",
    "print(eNet.intercept_)\n",
    "\n",
    "pd.DataFrame(eNet.coef_, index= df_maternal_imputed.columns ).sort_values(0)"
   ]
  },
  {
   "cell_type": "markdown",
   "metadata": {
    "papermill": {
     "duration": 0.082452,
     "end_time": "2021-01-10T14:10:11.565819",
     "exception": false,
     "start_time": "2021-01-10T14:10:11.483367",
     "status": "completed"
    },
    "tags": []
   },
   "source": [
    "## Infant mortality"
   ]
  },
  {
   "cell_type": "code",
   "execution_count": 73,
   "metadata": {
    "papermill": {
     "duration": 0.13472,
     "end_time": "2021-01-10T14:10:11.784653",
     "exception": false,
     "start_time": "2021-01-10T14:10:11.649933",
     "status": "completed"
    },
    "tags": []
   },
   "outputs": [
    {
     "name": "stdout",
     "output_type": "stream",
     "text": [
      "<class 'pandas.core.frame.DataFrame'>\n",
      "Int64Index: 10494 entries, 0 to 10493\n",
      "Data columns (total 14 columns):\n",
      " #   Column                            Non-Null Count  Dtype         \n",
      "---  ------                            --------------  -----         \n",
      " 0   Location                          10494 non-null  object        \n",
      " 1   Period                            10494 non-null  datetime64[ns]\n",
      " 2   infantMortalityRate               10000 non-null  float64       \n",
      " 3   birthAttendedBySkilledPersonal    1755 non-null   float64       \n",
      " 4   medicalDoctors                    2506 non-null   float64       \n",
      " 5   nursingAndMidwife                 2587 non-null   float64       \n",
      " 6   pharmacists                       1795 non-null   float64       \n",
      " 7   basicDrinkingWaterServices        3455 non-null   float64       \n",
      " 8   atLeastBasicSanitizationServices  3439 non-null   float64       \n",
      " 9   safelySanitization                1571 non-null   float64       \n",
      " 10  basicHandWashing                  921 non-null    float64       \n",
      " 11  uhcCoverage                       366 non-null    float64       \n",
      " 12  population10SDG                   711 non-null    float64       \n",
      " 13  population25SDG                   711 non-null    float64       \n",
      "dtypes: datetime64[ns](1), float64(12), object(1)\n",
      "memory usage: 1.2+ MB\n"
     ]
    }
   ],
   "source": [
    "df_infant = pd.merge(infantMortalityRate_s, df_medicine, on = ['Location','Period'],how='outer')\n",
    "df_infant = pd.merge(df_infant, df_hygiene, on = ['Location','Period'],how='outer')\n",
    "df_infant = pd.merge(df_infant, df_finance, on = ['Location','Period'],how='outer')\n",
    "df_infant.info()"
   ]
  },
  {
   "cell_type": "code",
   "execution_count": 74,
   "metadata": {
    "papermill": {
     "duration": 0.150069,
     "end_time": "2021-01-10T14:10:12.014563",
     "exception": false,
     "start_time": "2021-01-10T14:10:11.864494",
     "status": "completed"
    },
    "tags": []
   },
   "outputs": [],
   "source": [
    "# Need to change some country name to use pycountry\n",
    "df_infant.loc[df_infant['Location'] == \"Sudan (until 2011)\", 'Location'] = 'Sudan'\n",
    "df_infant.loc[df_infant['Location'] == \"Bolivia (Plurinational State of)\", 'Location'] = 'Bolivia, Plurinational State of'\n",
    "df_infant.loc[df_infant['Location'] == \"Côte d’Ivoire\", 'Location'] = 'Ivory Coast'\n",
    "df_infant.loc[df_infant['Location'] == \"Iran (Islamic Republic of)\", 'Location'] = 'Iran, Islamic Republic of'\n",
    "df_infant.loc[df_infant['Location'] == \"Micronesia (Federated States of)\", 'Location'] = 'Micronesia'\n",
    "df_infant.loc[df_infant['Location'] == \"Republic of Korea\", 'Location'] = 'Korea, Republic of'\n",
    "df_infant.loc[df_infant['Location'] == \"The former Yugoslav Republic of Macedonia\", 'Location'] = 'North Macedonia'\n",
    "df_infant.loc[df_infant['Location'] == \"Venezuela (Bolivarian Republic of)\", 'Location'] = 'Venezuela, Bolivarian Republic of'\n",
    "df_infant.loc[df_infant['Location'] == \"Germany, Federal Republic (former)\", 'Location'] = 'Germany'\n",
    "df_infant.loc[df_infant['Location'] == \"India (until 1975)\", 'Location'] = 'India'\n",
    "df_infant.loc[df_infant['Location'] == \"Kiribati (until 1984)\", 'Location'] = 'Kiribati'\n",
    "df_infant.loc[df_infant['Location'] == \"South Viet Nam (former)\", 'Location'] = 'Viet Nam'\n",
    "df_infant.loc[df_infant['Location'] == 'Yemen Arab Republic (until 1990)', 'Location'] = 'Yemen'\n",
    "df_infant.loc[df_infant['Location'] == 'State of Palestine', 'Location'] = 'Palestine, State of'\n",
    "\n",
    "df_infant['country_code'] = df_infant['Location'].apply(pc.country_name_to_country_alpha2)\n",
    "df_infant['continent'] = df_infant['country_code'].apply(lambda x: convert_continent(x))"
   ]
  },
  {
   "cell_type": "code",
   "execution_count": 75,
   "metadata": {
    "papermill": {
     "duration": 3.545771,
     "end_time": "2021-01-10T14:10:15.638253",
     "exception": false,
     "start_time": "2021-01-10T14:10:12.092482",
     "status": "completed"
    },
    "tags": []
   },
   "outputs": [],
   "source": [
    "# Interpolate missing data within country\n",
    "country_list = df_infant['Location'].unique()\n",
    "\n",
    "for country in country_list:\n",
    "    df_country = df_infant[df_infant['Location'] == country] \n",
    "    df_country = df_country.sort_values('Period')\n",
    "    for i in range(2, 14):\n",
    "        df_country.iloc[:,i] = df_country.iloc[:,i].interpolate(method='linear', limit_direction='both')\n",
    "    \n",
    "    # drop the rows with the country\n",
    "    df_infant = df_infant[df_infant['Location'] != country]\n",
    "    # Append fixed list to main list\n",
    "    df_infant = df_infant.append(df_country)\n",
    "    \n",
    "df_infant = df_infant.sort_index()"
   ]
  },
  {
   "cell_type": "code",
   "execution_count": 76,
   "metadata": {
    "papermill": {
     "duration": 0.16458,
     "end_time": "2021-01-10T14:10:15.880344",
     "exception": false,
     "start_time": "2021-01-10T14:10:15.715764",
     "status": "completed"
    },
    "tags": []
   },
   "outputs": [],
   "source": [
    "# Prepare data for KNNImputer\n",
    "from sklearn.preprocessing import LabelEncoder\n",
    "\n",
    "le = LabelEncoder()\n",
    "df_infant['Location'] = le.fit_transform(df_infant['Location'])\n",
    "df_infant['continent'] = le.fit_transform(df_infant['continent'])\n",
    "\n",
    "df_infant = df_infant.drop(['country_code'], axis=1)\n",
    "\n",
    "# Convert time to float\n",
    "df_infant['Period'] = df_infant['Period'].apply(lambda x: x.toordinal())\n",
    "column_names = df_infant.columns"
   ]
  },
  {
   "cell_type": "code",
   "execution_count": 77,
   "metadata": {
    "papermill": {
     "duration": 6.499066,
     "end_time": "2021-01-10T14:10:22.462198",
     "exception": false,
     "start_time": "2021-01-10T14:10:15.963132",
     "status": "completed"
    },
    "tags": []
   },
   "outputs": [
    {
     "name": "stdout",
     "output_type": "stream",
     "text": [
      "<class 'pandas.core.frame.DataFrame'>\n",
      "RangeIndex: 10494 entries, 0 to 10493\n",
      "Data columns (total 15 columns):\n",
      " #   Column                            Non-Null Count  Dtype  \n",
      "---  ------                            --------------  -----  \n",
      " 0   Location                          10494 non-null  float64\n",
      " 1   Period                            10494 non-null  float64\n",
      " 2   infantMortalityRate               10494 non-null  float64\n",
      " 3   birthAttendedBySkilledPersonal    10494 non-null  float64\n",
      " 4   medicalDoctors                    10494 non-null  float64\n",
      " 5   nursingAndMidwife                 10494 non-null  float64\n",
      " 6   pharmacists                       10494 non-null  float64\n",
      " 7   basicDrinkingWaterServices        10494 non-null  float64\n",
      " 8   atLeastBasicSanitizationServices  10494 non-null  float64\n",
      " 9   safelySanitization                10494 non-null  float64\n",
      " 10  basicHandWashing                  10494 non-null  float64\n",
      " 11  uhcCoverage                       10494 non-null  float64\n",
      " 12  population10SDG                   10494 non-null  float64\n",
      " 13  population25SDG                   10494 non-null  float64\n",
      " 14  continent                         10494 non-null  float64\n",
      "dtypes: float64(15)\n",
      "memory usage: 1.2 MB\n"
     ]
    }
   ],
   "source": [
    "from sklearn.impute import KNNImputer\n",
    "imputer = KNNImputer(n_neighbors=5)\n",
    "df_infant_imputed = pd.DataFrame(imputer.fit_transform(df_infant), columns = column_names) \n",
    "df_infant_imputed.info()"
   ]
  },
  {
   "cell_type": "code",
   "execution_count": 78,
   "metadata": {
    "papermill": {
     "duration": 0.104136,
     "end_time": "2021-01-10T14:10:22.646440",
     "exception": false,
     "start_time": "2021-01-10T14:10:22.542304",
     "status": "completed"
    },
    "tags": []
   },
   "outputs": [],
   "source": [
    "from sklearn.model_selection import train_test_split\n",
    "from sklearn.preprocessing import StandardScaler\n",
    "from sklearn.pipeline import Pipeline\n",
    "\n",
    "numerical_cols = ['medicalDoctors', 'nursingAndMidwife', 'pharmacists', 'basicDrinkingWaterServices','atLeastBasicSanitizationServices', 'safelySanitization','basicHandWashing', 'uhcCoverage',\n",
    "       'population10SDG', 'population25SDG', 'continent']\n",
    "\n",
    "Y = np.array(df_infant_imputed['infantMortalityRate']).reshape(-1, 1)\n",
    "scaler = StandardScaler()\n",
    "Y = scaler.fit_transform(Y)\n",
    "\n",
    "df_infant_imputed.pop('infantMortalityRate')\n",
    "X = df_infant_imputed\n",
    "X[numerical_cols] = scaler.fit_transform(X[numerical_cols])\n",
    "\n",
    "# stratify - make sure classes are evenlly represented across splits\n",
    "X_train, X_valid, y_train, y_valid = train_test_split(X, Y, train_size=0.75)"
   ]
  },
  {
   "cell_type": "markdown",
   "metadata": {
    "papermill": {
     "duration": 0.079849,
     "end_time": "2021-01-10T14:10:22.805452",
     "exception": false,
     "start_time": "2021-01-10T14:10:22.725603",
     "status": "completed"
    },
    "tags": []
   },
   "source": [
    "### Lasso\n",
    "\n",
    "1. Evaluate LASSO parameter\n",
    "2. Fit model and check coefficient"
   ]
  },
  {
   "cell_type": "code",
   "execution_count": 79,
   "metadata": {
    "papermill": {
     "duration": 0.089414,
     "end_time": "2021-01-10T14:10:22.974751",
     "exception": false,
     "start_time": "2021-01-10T14:10:22.885337",
     "status": "completed"
    },
    "tags": []
   },
   "outputs": [
    {
     "name": "stdout",
     "output_type": "stream",
     "text": [
      "MAE: -0.348\n",
      "Config: {'alpha': 0.01}\n"
     ]
    }
   ],
   "source": [
    "# grid search hyperparameters for lasso regression\n",
    "# define model\n",
    "model = Lasso()\n",
    "# define model evaluation method\n",
    "cv = RepeatedKFold(n_splits=10, n_repeats=3, random_state=1)\n",
    "# define grid\n",
    "grid = dict()\n",
    "grid['alpha'] = arange(0, 1, 0.01)\n",
    "# define search\n",
    "search = GridSearchCV(model, grid, scoring='neg_mean_absolute_error', cv=cv, n_jobs=-1)\n",
    "# perform the search\n",
    "results = search.fit(X_train, y_train)\n",
    "# summarize\n",
    "print('MAE: %.3f' % results.best_score_)\n",
    "print('Config: %s' % results.best_params_)"
   ]
  },
  {
   "cell_type": "code",
   "execution_count": 80,
   "metadata": {
    "papermill": {
     "duration": 0.120818,
     "end_time": "2021-01-10T14:10:23.332746",
     "exception": false,
     "start_time": "2021-01-10T14:10:23.211928",
     "status": "completed"
    },
    "tags": []
   },
   "outputs": [
    {
     "name": "stdout",
     "output_type": "stream",
     "text": [
      "RMSE = 0.47719266273608146\n",
      "R-square = 0.7771039182961905\n",
      "[-5.17577735e-04 -7.53710542e-05 -1.14313643e-02 -0.00000000e+00\n",
      " -1.88189590e-03 -3.01164268e-02 -7.90285828e-02 -1.38810032e-02\n",
      " -1.64082538e-01 -3.04603383e-02 -1.53630102e-01  9.16160337e-03\n",
      "  0.00000000e+00 -7.02715878e-02]\n",
      "[55.73468178]\n"
     ]
    },
    {
     "data": {
      "text/html": [
       "<div>\n",
       "<style scoped>\n",
       "    .dataframe tbody tr th:only-of-type {\n",
       "        vertical-align: middle;\n",
       "    }\n",
       "\n",
       "    .dataframe tbody tr th {\n",
       "        vertical-align: top;\n",
       "    }\n",
       "\n",
       "    .dataframe thead th {\n",
       "        text-align: right;\n",
       "    }\n",
       "</style>\n",
       "<table border=\"1\" class=\"dataframe\">\n",
       "  <thead>\n",
       "    <tr style=\"text-align: right;\">\n",
       "      <th></th>\n",
       "      <th>0</th>\n",
       "    </tr>\n",
       "  </thead>\n",
       "  <tbody>\n",
       "    <tr>\n",
       "      <th>safelySanitization</th>\n",
       "      <td>-0.164083</td>\n",
       "    </tr>\n",
       "    <tr>\n",
       "      <th>uhcCoverage</th>\n",
       "      <td>-0.153630</td>\n",
       "    </tr>\n",
       "    <tr>\n",
       "      <th>basicDrinkingWaterServices</th>\n",
       "      <td>-0.079029</td>\n",
       "    </tr>\n",
       "    <tr>\n",
       "      <th>continent</th>\n",
       "      <td>-0.070272</td>\n",
       "    </tr>\n",
       "    <tr>\n",
       "      <th>basicHandWashing</th>\n",
       "      <td>-0.030460</td>\n",
       "    </tr>\n",
       "    <tr>\n",
       "      <th>pharmacists</th>\n",
       "      <td>-0.030116</td>\n",
       "    </tr>\n",
       "    <tr>\n",
       "      <th>atLeastBasicSanitizationServices</th>\n",
       "      <td>-0.013881</td>\n",
       "    </tr>\n",
       "    <tr>\n",
       "      <th>birthAttendedBySkilledPersonal</th>\n",
       "      <td>-0.011431</td>\n",
       "    </tr>\n",
       "    <tr>\n",
       "      <th>nursingAndMidwife</th>\n",
       "      <td>-0.001882</td>\n",
       "    </tr>\n",
       "    <tr>\n",
       "      <th>Location</th>\n",
       "      <td>-0.000518</td>\n",
       "    </tr>\n",
       "    <tr>\n",
       "      <th>Period</th>\n",
       "      <td>-0.000075</td>\n",
       "    </tr>\n",
       "    <tr>\n",
       "      <th>medicalDoctors</th>\n",
       "      <td>-0.000000</td>\n",
       "    </tr>\n",
       "    <tr>\n",
       "      <th>population25SDG</th>\n",
       "      <td>0.000000</td>\n",
       "    </tr>\n",
       "    <tr>\n",
       "      <th>population10SDG</th>\n",
       "      <td>0.009162</td>\n",
       "    </tr>\n",
       "  </tbody>\n",
       "</table>\n",
       "</div>"
      ],
      "text/plain": [
       "                                         0\n",
       "safelySanitization               -0.164083\n",
       "uhcCoverage                      -0.153630\n",
       "basicDrinkingWaterServices       -0.079029\n",
       "continent                        -0.070272\n",
       "basicHandWashing                 -0.030460\n",
       "pharmacists                      -0.030116\n",
       "atLeastBasicSanitizationServices -0.013881\n",
       "birthAttendedBySkilledPersonal   -0.011431\n",
       "nursingAndMidwife                -0.001882\n",
       "Location                         -0.000518\n",
       "Period                           -0.000075\n",
       "medicalDoctors                   -0.000000\n",
       "population25SDG                   0.000000\n",
       "population10SDG                   0.009162"
      ]
     },
     "execution_count": 80,
     "metadata": {},
     "output_type": "execute_result"
    }
   ],
   "source": [
    "from sklearn.metrics import mean_squared_error\n",
    "from sklearn.metrics import r2_score\n",
    "\n",
    "clf = Lasso(alpha=0.01).fit(X_train, y_train)\n",
    "prediction = clf.predict(X_valid)\n",
    "print(f\"RMSE = {np.sqrt(mean_squared_error(y_valid,prediction))}\" ) \n",
    "print(f\"R-square = {r2_score(y_valid, prediction)}\" )\n",
    "print(clf.coef_)\n",
    "print(clf.intercept_)\n",
    "pd.DataFrame(clf.coef_, index= df_maternal_imputed.columns ).sort_values(0)"
   ]
  },
  {
   "cell_type": "markdown",
   "metadata": {
    "papermill": {
     "duration": 0.079131,
     "end_time": "2021-01-10T14:10:23.492100",
     "exception": false,
     "start_time": "2021-01-10T14:10:23.412969",
     "status": "completed"
    },
    "tags": []
   },
   "source": [
    "### Elastic Net\n",
    "\n",
    "1. Evaluate elastic net parameter\n",
    "2. Fit model and check coefficient"
   ]
  },
  {
   "cell_type": "code",
   "execution_count": 81,
   "metadata": {
    "papermill": {
     "duration": 0.086987,
     "end_time": "2021-01-10T14:10:23.658854",
     "exception": false,
     "start_time": "2021-01-10T14:10:23.571867",
     "status": "completed"
    },
    "tags": []
   },
   "outputs": [
    {
     "name": "stdout",
     "output_type": "stream",
     "text": [
      "MAE: -0.347\n",
      "Config: {'alpha': 0.1, 'l1_ratio': 0.05}\n"
     ]
    }
   ],
   "source": [
    "# grid search hyperparameters for the elastic net\n",
    "# define model\n",
    "model = ElasticNet()\n",
    "# define model evaluation method\n",
    "cv = RepeatedKFold(n_splits=10, n_repeats=3, random_state=1)\n",
    "# define grid\n",
    "grid = dict()\n",
    "grid['alpha'] = [1e-5, 1e-4, 1e-3, 1e-2, 1e-1, 0.0, 1.0, 10.0, 100.0]\n",
    "grid['l1_ratio'] = arange(0, 1, 0.01)\n",
    "# define search\n",
    "search = GridSearchCV(model, grid, scoring='neg_mean_absolute_error', cv=cv, n_jobs=-1)\n",
    "# perform the search\n",
    "results = search.fit(X_train, y_train)\n",
    "# summarize\n",
    "print('MAE: %.3f' % results.best_score_)\n",
    "print('Config: %s' % results.best_params_)"
   ]
  },
  {
   "cell_type": "code",
   "execution_count": 82,
   "metadata": {
    "papermill": {
     "duration": 0.119981,
     "end_time": "2021-01-10T14:10:24.018339",
     "exception": false,
     "start_time": "2021-01-10T14:10:23.898358",
     "status": "completed"
    },
    "tags": []
   },
   "outputs": [
    {
     "name": "stdout",
     "output_type": "stream",
     "text": [
      "RMSE = 0.4778669104709998\n",
      "R-square = 0.7764735927952703\n",
      "[-5.29800755e-04 -7.45010832e-05 -1.17124605e-02 -8.81410657e-03\n",
      " -1.07934217e-02 -3.69947881e-02 -7.93541979e-02 -4.42401754e-02\n",
      " -1.36014294e-01 -3.61830223e-02 -1.15560935e-01  9.49902859e-03\n",
      "  6.05179892e-03 -7.00511111e-02]\n",
      "[55.12693623]\n"
     ]
    },
    {
     "data": {
      "text/html": [
       "<div>\n",
       "<style scoped>\n",
       "    .dataframe tbody tr th:only-of-type {\n",
       "        vertical-align: middle;\n",
       "    }\n",
       "\n",
       "    .dataframe tbody tr th {\n",
       "        vertical-align: top;\n",
       "    }\n",
       "\n",
       "    .dataframe thead th {\n",
       "        text-align: right;\n",
       "    }\n",
       "</style>\n",
       "<table border=\"1\" class=\"dataframe\">\n",
       "  <thead>\n",
       "    <tr style=\"text-align: right;\">\n",
       "      <th></th>\n",
       "      <th>0</th>\n",
       "    </tr>\n",
       "  </thead>\n",
       "  <tbody>\n",
       "    <tr>\n",
       "      <th>safelySanitization</th>\n",
       "      <td>-0.136014</td>\n",
       "    </tr>\n",
       "    <tr>\n",
       "      <th>uhcCoverage</th>\n",
       "      <td>-0.115561</td>\n",
       "    </tr>\n",
       "    <tr>\n",
       "      <th>basicDrinkingWaterServices</th>\n",
       "      <td>-0.079354</td>\n",
       "    </tr>\n",
       "    <tr>\n",
       "      <th>continent</th>\n",
       "      <td>-0.070051</td>\n",
       "    </tr>\n",
       "    <tr>\n",
       "      <th>atLeastBasicSanitizationServices</th>\n",
       "      <td>-0.044240</td>\n",
       "    </tr>\n",
       "    <tr>\n",
       "      <th>pharmacists</th>\n",
       "      <td>-0.036995</td>\n",
       "    </tr>\n",
       "    <tr>\n",
       "      <th>basicHandWashing</th>\n",
       "      <td>-0.036183</td>\n",
       "    </tr>\n",
       "    <tr>\n",
       "      <th>birthAttendedBySkilledPersonal</th>\n",
       "      <td>-0.011712</td>\n",
       "    </tr>\n",
       "    <tr>\n",
       "      <th>nursingAndMidwife</th>\n",
       "      <td>-0.010793</td>\n",
       "    </tr>\n",
       "    <tr>\n",
       "      <th>medicalDoctors</th>\n",
       "      <td>-0.008814</td>\n",
       "    </tr>\n",
       "    <tr>\n",
       "      <th>Location</th>\n",
       "      <td>-0.000530</td>\n",
       "    </tr>\n",
       "    <tr>\n",
       "      <th>Period</th>\n",
       "      <td>-0.000075</td>\n",
       "    </tr>\n",
       "    <tr>\n",
       "      <th>population25SDG</th>\n",
       "      <td>0.006052</td>\n",
       "    </tr>\n",
       "    <tr>\n",
       "      <th>population10SDG</th>\n",
       "      <td>0.009499</td>\n",
       "    </tr>\n",
       "  </tbody>\n",
       "</table>\n",
       "</div>"
      ],
      "text/plain": [
       "                                         0\n",
       "safelySanitization               -0.136014\n",
       "uhcCoverage                      -0.115561\n",
       "basicDrinkingWaterServices       -0.079354\n",
       "continent                        -0.070051\n",
       "atLeastBasicSanitizationServices -0.044240\n",
       "pharmacists                      -0.036995\n",
       "basicHandWashing                 -0.036183\n",
       "birthAttendedBySkilledPersonal   -0.011712\n",
       "nursingAndMidwife                -0.010793\n",
       "medicalDoctors                   -0.008814\n",
       "Location                         -0.000530\n",
       "Period                           -0.000075\n",
       "population25SDG                   0.006052\n",
       "population10SDG                   0.009499"
      ]
     },
     "execution_count": 82,
     "metadata": {},
     "output_type": "execute_result"
    }
   ],
   "source": [
    "from sklearn.linear_model import ElasticNet\n",
    "eNet = ElasticNet(alpha = 0.1, l1_ratio = 0.05,random_state=1).fit(X_train, y_train)\n",
    "prediction = eNet.predict(X_valid)\n",
    "print(f\"RMSE = {np.sqrt(mean_squared_error(y_valid,prediction))}\" ) \n",
    "print(f\"R-square = {r2_score(y_valid, prediction)}\" )\n",
    "\n",
    "print(eNet.coef_)\n",
    "print(eNet.intercept_)\n",
    "\n",
    "pd.DataFrame(eNet.coef_, index= df_maternal_imputed.columns ).sort_values(0)"
   ]
  },
  {
   "cell_type": "markdown",
   "metadata": {
    "papermill": {
     "duration": 0.081887,
     "end_time": "2021-01-10T14:10:24.181492",
     "exception": false,
     "start_time": "2021-01-10T14:10:24.099605",
     "status": "completed"
    },
    "tags": []
   },
   "source": [
    "## Neonatal mortality"
   ]
  },
  {
   "cell_type": "code",
   "execution_count": 83,
   "metadata": {
    "papermill": {
     "duration": 0.129704,
     "end_time": "2021-01-10T14:10:24.394753",
     "exception": false,
     "start_time": "2021-01-10T14:10:24.265049",
     "status": "completed"
    },
    "tags": []
   },
   "outputs": [
    {
     "name": "stdout",
     "output_type": "stream",
     "text": [
      "<class 'pandas.core.frame.DataFrame'>\n",
      "Int64Index: 9163 entries, 0 to 9162\n",
      "Data columns (total 14 columns):\n",
      " #   Column                            Non-Null Count  Dtype         \n",
      "---  ------                            --------------  -----         \n",
      " 0   Location                          9163 non-null   object        \n",
      " 1   Period                            9163 non-null   datetime64[ns]\n",
      " 2   neonatalMortalityRate             9135 non-null   float64       \n",
      " 3   birthAttendedBySkilledPersonal    1755 non-null   float64       \n",
      " 4   medicalDoctors                    2506 non-null   float64       \n",
      " 5   nursingAndMidwife                 2587 non-null   float64       \n",
      " 6   pharmacists                       1795 non-null   float64       \n",
      " 7   basicDrinkingWaterServices        3455 non-null   float64       \n",
      " 8   atLeastBasicSanitizationServices  3439 non-null   float64       \n",
      " 9   safelySanitization                1571 non-null   float64       \n",
      " 10  basicHandWashing                  921 non-null    float64       \n",
      " 11  uhcCoverage                       366 non-null    float64       \n",
      " 12  population10SDG                   711 non-null    float64       \n",
      " 13  population25SDG                   711 non-null    float64       \n",
      "dtypes: datetime64[ns](1), float64(12), object(1)\n",
      "memory usage: 1.0+ MB\n"
     ]
    }
   ],
   "source": [
    "df_neonatal = pd.merge(neonatalMortalityRate_s, df_medicine, on = ['Location','Period'],how='outer')\n",
    "df_neonatal = pd.merge(df_neonatal, df_hygiene, on = ['Location','Period'],how='outer')\n",
    "df_neonatal = pd.merge(df_neonatal, df_finance, on = ['Location','Period'],how='outer')\n",
    "df_neonatal.info()"
   ]
  },
  {
   "cell_type": "code",
   "execution_count": 84,
   "metadata": {
    "papermill": {
     "duration": 0.146514,
     "end_time": "2021-01-10T14:10:24.624233",
     "exception": false,
     "start_time": "2021-01-10T14:10:24.477719",
     "status": "completed"
    },
    "tags": []
   },
   "outputs": [],
   "source": [
    "# Need to change some country name to use pycountry\n",
    "df_neonatal.loc[df_neonatal['Location'] == \"Sudan (until 2011)\", 'Location'] = 'Sudan'\n",
    "df_neonatal.loc[df_neonatal['Location'] == \"Bolivia (Plurinational State of)\", 'Location'] = 'Bolivia, Plurinational State of'\n",
    "df_neonatal.loc[df_neonatal['Location'] == \"Côte d’Ivoire\", 'Location'] = 'Ivory Coast'\n",
    "df_neonatal.loc[df_neonatal['Location'] == \"Iran (Islamic Republic of)\", 'Location'] = 'Iran, Islamic Republic of'\n",
    "df_neonatal.loc[df_neonatal['Location'] == \"Micronesia (Federated States of)\", 'Location'] = 'Micronesia'\n",
    "df_neonatal.loc[df_neonatal['Location'] == \"Republic of Korea\", 'Location'] = 'Korea, Republic of'\n",
    "df_neonatal.loc[df_neonatal['Location'] == \"The former Yugoslav Republic of Macedonia\", 'Location'] = 'North Macedonia'\n",
    "df_neonatal.loc[df_neonatal['Location'] == \"Venezuela (Bolivarian Republic of)\", 'Location'] = 'Venezuela, Bolivarian Republic of'\n",
    "df_neonatal.loc[df_neonatal['Location'] == \"Germany, Federal Republic (former)\", 'Location'] = 'Germany'\n",
    "df_neonatal.loc[df_neonatal['Location'] == \"India (until 1975)\", 'Location'] = 'India'\n",
    "df_neonatal.loc[df_neonatal['Location'] == \"Kiribati (until 1984)\", 'Location'] = 'Kiribati'\n",
    "df_neonatal.loc[df_neonatal['Location'] == \"South Viet Nam (former)\", 'Location'] = 'Viet Nam'\n",
    "df_neonatal.loc[df_neonatal['Location'] == 'Yemen Arab Republic (until 1990)', 'Location'] = 'Yemen'\n",
    "df_neonatal.loc[df_neonatal['Location'] == 'State of Palestine', 'Location'] = 'Palestine, State of'\n",
    "\n",
    "df_neonatal['country_code'] = df_neonatal['Location'].apply(pc.country_name_to_country_alpha2)\n",
    "df_neonatal['continent'] = df_neonatal['country_code'].apply(lambda x: convert_continent(x))"
   ]
  },
  {
   "cell_type": "code",
   "execution_count": 85,
   "metadata": {
    "papermill": {
     "duration": 3.360906,
     "end_time": "2021-01-10T14:10:28.067364",
     "exception": false,
     "start_time": "2021-01-10T14:10:24.706458",
     "status": "completed"
    },
    "tags": []
   },
   "outputs": [],
   "source": [
    "# Interpolate missing data within country\n",
    "country_list = df_neonatal['Location'].unique()\n",
    "\n",
    "for country in country_list:\n",
    "    df_country = df_neonatal[df_neonatal['Location'] == country] \n",
    "    df_country = df_country.sort_values('Period')\n",
    "    for i in range(2, 14):\n",
    "        df_country.iloc[:,i] = df_country.iloc[:,i].interpolate(method='linear', limit_direction='both')\n",
    "    \n",
    "    # drop the rows with the country\n",
    "    df_neonatal = df_neonatal[df_neonatal['Location'] != country]\n",
    "    # Append fixed list to main list\n",
    "    df_neonatal = df_neonatal.append(df_country)\n",
    "    \n",
    "df_neonatal = df_neonatal.sort_index()"
   ]
  },
  {
   "cell_type": "code",
   "execution_count": 86,
   "metadata": {
    "papermill": {
     "duration": 0.159658,
     "end_time": "2021-01-10T14:10:28.309325",
     "exception": false,
     "start_time": "2021-01-10T14:10:28.149667",
     "status": "completed"
    },
    "tags": []
   },
   "outputs": [],
   "source": [
    "# Prepare data for KNNImputer\n",
    "from sklearn.preprocessing import LabelEncoder\n",
    "\n",
    "le = LabelEncoder()\n",
    "df_neonatal['Location'] = le.fit_transform(df_neonatal['Location'])\n",
    "df_neonatal['continent'] = le.fit_transform(df_neonatal['continent'])\n",
    "\n",
    "df_neonatal = df_neonatal.drop(['country_code'], axis=1)\n",
    "\n",
    "# Convert time to float\n",
    "df_neonatal['Period'] = df_neonatal['Period'].apply(lambda x: x.toordinal())\n",
    "column_names = df_neonatal.columns"
   ]
  },
  {
   "cell_type": "code",
   "execution_count": 87,
   "metadata": {
    "papermill": {
     "duration": 4.899417,
     "end_time": "2021-01-10T14:10:33.295171",
     "exception": false,
     "start_time": "2021-01-10T14:10:28.395754",
     "status": "completed"
    },
    "tags": []
   },
   "outputs": [
    {
     "name": "stdout",
     "output_type": "stream",
     "text": [
      "<class 'pandas.core.frame.DataFrame'>\n",
      "RangeIndex: 9163 entries, 0 to 9162\n",
      "Data columns (total 15 columns):\n",
      " #   Column                            Non-Null Count  Dtype  \n",
      "---  ------                            --------------  -----  \n",
      " 0   Location                          9163 non-null   float64\n",
      " 1   Period                            9163 non-null   float64\n",
      " 2   neonatalMortalityRate             9163 non-null   float64\n",
      " 3   birthAttendedBySkilledPersonal    9163 non-null   float64\n",
      " 4   medicalDoctors                    9163 non-null   float64\n",
      " 5   nursingAndMidwife                 9163 non-null   float64\n",
      " 6   pharmacists                       9163 non-null   float64\n",
      " 7   basicDrinkingWaterServices        9163 non-null   float64\n",
      " 8   atLeastBasicSanitizationServices  9163 non-null   float64\n",
      " 9   safelySanitization                9163 non-null   float64\n",
      " 10  basicHandWashing                  9163 non-null   float64\n",
      " 11  uhcCoverage                       9163 non-null   float64\n",
      " 12  population10SDG                   9163 non-null   float64\n",
      " 13  population25SDG                   9163 non-null   float64\n",
      " 14  continent                         9163 non-null   float64\n",
      "dtypes: float64(15)\n",
      "memory usage: 1.0 MB\n"
     ]
    }
   ],
   "source": [
    "from sklearn.impute import KNNImputer\n",
    "imputer = KNNImputer(n_neighbors=5)\n",
    "df_neonatal_imputed = pd.DataFrame(imputer.fit_transform(df_neonatal), columns = column_names) \n",
    "df_neonatal_imputed.info()"
   ]
  },
  {
   "cell_type": "code",
   "execution_count": 88,
   "metadata": {
    "papermill": {
     "duration": 0.116445,
     "end_time": "2021-01-10T14:10:33.501210",
     "exception": false,
     "start_time": "2021-01-10T14:10:33.384765",
     "status": "completed"
    },
    "tags": []
   },
   "outputs": [],
   "source": [
    "from sklearn.model_selection import train_test_split\n",
    "from sklearn.preprocessing import StandardScaler\n",
    "from sklearn.pipeline import Pipeline\n",
    "\n",
    "numerical_cols = ['medicalDoctors', 'nursingAndMidwife', 'pharmacists', 'basicDrinkingWaterServices','atLeastBasicSanitizationServices', 'safelySanitization','basicHandWashing', 'uhcCoverage',\n",
    "       'population10SDG', 'population25SDG', 'continent']\n",
    "\n",
    "Y = np.array(df_neonatal_imputed['neonatalMortalityRate']).reshape(-1, 1)\n",
    "scaler = StandardScaler()\n",
    "Y = scaler.fit_transform(Y)\n",
    "\n",
    "df_neonatal_imputed.pop('neonatalMortalityRate')\n",
    "X = df_neonatal_imputed\n",
    "X[numerical_cols] = scaler.fit_transform(X[numerical_cols])\n",
    "\n",
    "# stratify - make sure classes are evenlly represented across splits\n",
    "X_train, X_valid, y_train, y_valid = train_test_split(X, Y, train_size=0.75)"
   ]
  },
  {
   "cell_type": "markdown",
   "metadata": {
    "papermill": {
     "duration": 0.090657,
     "end_time": "2021-01-10T14:10:33.680380",
     "exception": false,
     "start_time": "2021-01-10T14:10:33.589723",
     "status": "completed"
    },
    "tags": []
   },
   "source": [
    "### Lasso\n",
    "\n",
    "1. Evaluate LASSO parameter\n",
    "2. Fit model and check coefficient"
   ]
  },
  {
   "cell_type": "code",
   "execution_count": 89,
   "metadata": {
    "papermill": {
     "duration": 0.095062,
     "end_time": "2021-01-10T14:10:33.861200",
     "exception": false,
     "start_time": "2021-01-10T14:10:33.766138",
     "status": "completed"
    },
    "tags": []
   },
   "outputs": [
    {
     "name": "stdout",
     "output_type": "stream",
     "text": [
      "MAE: -0.345\n",
      "Config: {'alpha': 0.01}\n"
     ]
    }
   ],
   "source": [
    "# grid search hyperparameters for lasso regression\n",
    "# define model\n",
    "model = Lasso()\n",
    "# define model evaluation method\n",
    "cv = RepeatedKFold(n_splits=10, n_repeats=3, random_state=1)\n",
    "# define grid\n",
    "grid = dict()\n",
    "grid['alpha'] = arange(0, 1, 0.01)\n",
    "# define search\n",
    "search = GridSearchCV(model, grid, scoring='neg_mean_absolute_error', cv=cv, n_jobs=-1)\n",
    "# perform the search\n",
    "results = search.fit(X_train, y_train)\n",
    "# summarize\n",
    "print('MAE: %.3f' % results.best_score_)\n",
    "print('Config: %s' % results.best_params_)"
   ]
  },
  {
   "cell_type": "code",
   "execution_count": 90,
   "metadata": {
    "papermill": {
     "duration": 0.132942,
     "end_time": "2021-01-10T14:10:34.259480",
     "exception": false,
     "start_time": "2021-01-10T14:10:34.126538",
     "status": "completed"
    },
    "tags": []
   },
   "outputs": [
    {
     "name": "stdout",
     "output_type": "stream",
     "text": [
      "RMSE = 0.45946090534016854\n",
      "R-square = 0.7801054837959218\n",
      "[-4.67526119e-04 -7.24475752e-05 -1.47570362e-02 -0.00000000e+00\n",
      " -2.01538865e-02 -6.14934228e-02  5.34979466e-03 -1.10719978e-01\n",
      " -9.28622586e-02  0.00000000e+00 -1.65245444e-01  4.10363356e-02\n",
      "  0.00000000e+00 -3.65895307e-02]\n",
      "[53.98710298]\n"
     ]
    },
    {
     "data": {
      "text/html": [
       "<div>\n",
       "<style scoped>\n",
       "    .dataframe tbody tr th:only-of-type {\n",
       "        vertical-align: middle;\n",
       "    }\n",
       "\n",
       "    .dataframe tbody tr th {\n",
       "        vertical-align: top;\n",
       "    }\n",
       "\n",
       "    .dataframe thead th {\n",
       "        text-align: right;\n",
       "    }\n",
       "</style>\n",
       "<table border=\"1\" class=\"dataframe\">\n",
       "  <thead>\n",
       "    <tr style=\"text-align: right;\">\n",
       "      <th></th>\n",
       "      <th>0</th>\n",
       "    </tr>\n",
       "  </thead>\n",
       "  <tbody>\n",
       "    <tr>\n",
       "      <th>uhcCoverage</th>\n",
       "      <td>-0.165245</td>\n",
       "    </tr>\n",
       "    <tr>\n",
       "      <th>atLeastBasicSanitizationServices</th>\n",
       "      <td>-0.110720</td>\n",
       "    </tr>\n",
       "    <tr>\n",
       "      <th>safelySanitization</th>\n",
       "      <td>-0.092862</td>\n",
       "    </tr>\n",
       "    <tr>\n",
       "      <th>pharmacists</th>\n",
       "      <td>-0.061493</td>\n",
       "    </tr>\n",
       "    <tr>\n",
       "      <th>continent</th>\n",
       "      <td>-0.036590</td>\n",
       "    </tr>\n",
       "    <tr>\n",
       "      <th>nursingAndMidwife</th>\n",
       "      <td>-0.020154</td>\n",
       "    </tr>\n",
       "    <tr>\n",
       "      <th>birthAttendedBySkilledPersonal</th>\n",
       "      <td>-0.014757</td>\n",
       "    </tr>\n",
       "    <tr>\n",
       "      <th>Location</th>\n",
       "      <td>-0.000468</td>\n",
       "    </tr>\n",
       "    <tr>\n",
       "      <th>Period</th>\n",
       "      <td>-0.000072</td>\n",
       "    </tr>\n",
       "    <tr>\n",
       "      <th>medicalDoctors</th>\n",
       "      <td>-0.000000</td>\n",
       "    </tr>\n",
       "    <tr>\n",
       "      <th>basicHandWashing</th>\n",
       "      <td>0.000000</td>\n",
       "    </tr>\n",
       "    <tr>\n",
       "      <th>population25SDG</th>\n",
       "      <td>0.000000</td>\n",
       "    </tr>\n",
       "    <tr>\n",
       "      <th>basicDrinkingWaterServices</th>\n",
       "      <td>0.005350</td>\n",
       "    </tr>\n",
       "    <tr>\n",
       "      <th>population10SDG</th>\n",
       "      <td>0.041036</td>\n",
       "    </tr>\n",
       "  </tbody>\n",
       "</table>\n",
       "</div>"
      ],
      "text/plain": [
       "                                         0\n",
       "uhcCoverage                      -0.165245\n",
       "atLeastBasicSanitizationServices -0.110720\n",
       "safelySanitization               -0.092862\n",
       "pharmacists                      -0.061493\n",
       "continent                        -0.036590\n",
       "nursingAndMidwife                -0.020154\n",
       "birthAttendedBySkilledPersonal   -0.014757\n",
       "Location                         -0.000468\n",
       "Period                           -0.000072\n",
       "medicalDoctors                   -0.000000\n",
       "basicHandWashing                  0.000000\n",
       "population25SDG                   0.000000\n",
       "basicDrinkingWaterServices        0.005350\n",
       "population10SDG                   0.041036"
      ]
     },
     "execution_count": 90,
     "metadata": {},
     "output_type": "execute_result"
    }
   ],
   "source": [
    "from sklearn.metrics import mean_squared_error\n",
    "from sklearn.metrics import r2_score\n",
    "\n",
    "clf = Lasso(alpha=0.01).fit(X_train, y_train)\n",
    "prediction = clf.predict(X_valid)\n",
    "print(f\"RMSE = {np.sqrt(mean_squared_error(y_valid,prediction))}\" ) \n",
    "print(f\"R-square = {r2_score(y_valid, prediction)}\" )\n",
    "print(clf.coef_)\n",
    "print(clf.intercept_)\n",
    "pd.DataFrame(clf.coef_, index= df_maternal_imputed.columns ).sort_values(0)"
   ]
  },
  {
   "cell_type": "markdown",
   "metadata": {
    "papermill": {
     "duration": 0.094831,
     "end_time": "2021-01-10T14:10:34.449244",
     "exception": false,
     "start_time": "2021-01-10T14:10:34.354413",
     "status": "completed"
    },
    "tags": []
   },
   "source": [
    "### Elastic Net\n",
    "\n",
    "1. Evaluate elastic net parameter\n",
    "2. Fit model and check coefficient"
   ]
  },
  {
   "cell_type": "code",
   "execution_count": 91,
   "metadata": {
    "papermill": {
     "duration": 0.097311,
     "end_time": "2021-01-10T14:10:34.635641",
     "exception": false,
     "start_time": "2021-01-10T14:10:34.538330",
     "status": "completed"
    },
    "tags": []
   },
   "outputs": [
    {
     "name": "stdout",
     "output_type": "stream",
     "text": [
      "MAE: -0.345\n",
      "Config: {'alpha': 0.01, 'l1_ratio': 0.99}\n"
     ]
    }
   ],
   "source": [
    "# grid search hyperparameters for the elastic net\n",
    "# define model\n",
    "model = ElasticNet()\n",
    "# define model evaluation method\n",
    "cv = RepeatedKFold(n_splits=10, n_repeats=3, random_state=1)\n",
    "# define grid\n",
    "grid = dict()\n",
    "grid['alpha'] = [1e-5, 1e-4, 1e-3, 1e-2, 1e-1, 0.0, 1.0, 10.0, 100.0]\n",
    "grid['l1_ratio'] = arange(0, 1, 0.01)\n",
    "# define search\n",
    "search = GridSearchCV(model, grid, scoring='neg_mean_absolute_error', cv=cv, n_jobs=-1)\n",
    "# perform the search\n",
    "results = search.fit(X_train, y_train)\n",
    "# summarize\n",
    "print('MAE: %.3f' % results.best_score_)\n",
    "print('Config: %s' % results.best_params_)"
   ]
  },
  {
   "cell_type": "code",
   "execution_count": 93,
   "metadata": {
    "papermill": {
     "duration": 0.12801,
     "end_time": "2021-01-10T14:10:35.025503",
     "exception": false,
     "start_time": "2021-01-10T14:10:34.897493",
     "status": "completed"
    },
    "tags": []
   },
   "outputs": [
    {
     "name": "stdout",
     "output_type": "stream",
     "text": [
      "RMSE = 0.4594216032385983\n",
      "R-square = 0.7801431015643978\n",
      "[-4.66621656e-04 -7.24517182e-05 -1.47477489e-02 -0.00000000e+00\n",
      " -2.02018771e-02 -6.15611946e-02  6.04429171e-03 -1.11198321e-01\n",
      " -9.30415283e-02  0.00000000e+00 -1.65374437e-01  4.11247767e-02\n",
      "  0.00000000e+00 -3.67321170e-02]\n",
      "[53.98927811]\n"
     ]
    },
    {
     "data": {
      "text/html": [
       "<div>\n",
       "<style scoped>\n",
       "    .dataframe tbody tr th:only-of-type {\n",
       "        vertical-align: middle;\n",
       "    }\n",
       "\n",
       "    .dataframe tbody tr th {\n",
       "        vertical-align: top;\n",
       "    }\n",
       "\n",
       "    .dataframe thead th {\n",
       "        text-align: right;\n",
       "    }\n",
       "</style>\n",
       "<table border=\"1\" class=\"dataframe\">\n",
       "  <thead>\n",
       "    <tr style=\"text-align: right;\">\n",
       "      <th></th>\n",
       "      <th>0</th>\n",
       "    </tr>\n",
       "  </thead>\n",
       "  <tbody>\n",
       "    <tr>\n",
       "      <th>uhcCoverage</th>\n",
       "      <td>-0.165374</td>\n",
       "    </tr>\n",
       "    <tr>\n",
       "      <th>atLeastBasicSanitizationServices</th>\n",
       "      <td>-0.111198</td>\n",
       "    </tr>\n",
       "    <tr>\n",
       "      <th>safelySanitization</th>\n",
       "      <td>-0.093042</td>\n",
       "    </tr>\n",
       "    <tr>\n",
       "      <th>pharmacists</th>\n",
       "      <td>-0.061561</td>\n",
       "    </tr>\n",
       "    <tr>\n",
       "      <th>continent</th>\n",
       "      <td>-0.036732</td>\n",
       "    </tr>\n",
       "    <tr>\n",
       "      <th>nursingAndMidwife</th>\n",
       "      <td>-0.020202</td>\n",
       "    </tr>\n",
       "    <tr>\n",
       "      <th>birthAttendedBySkilledPersonal</th>\n",
       "      <td>-0.014748</td>\n",
       "    </tr>\n",
       "    <tr>\n",
       "      <th>Location</th>\n",
       "      <td>-0.000467</td>\n",
       "    </tr>\n",
       "    <tr>\n",
       "      <th>Period</th>\n",
       "      <td>-0.000072</td>\n",
       "    </tr>\n",
       "    <tr>\n",
       "      <th>medicalDoctors</th>\n",
       "      <td>-0.000000</td>\n",
       "    </tr>\n",
       "    <tr>\n",
       "      <th>basicHandWashing</th>\n",
       "      <td>0.000000</td>\n",
       "    </tr>\n",
       "    <tr>\n",
       "      <th>population25SDG</th>\n",
       "      <td>0.000000</td>\n",
       "    </tr>\n",
       "    <tr>\n",
       "      <th>basicDrinkingWaterServices</th>\n",
       "      <td>0.006044</td>\n",
       "    </tr>\n",
       "    <tr>\n",
       "      <th>population10SDG</th>\n",
       "      <td>0.041125</td>\n",
       "    </tr>\n",
       "  </tbody>\n",
       "</table>\n",
       "</div>"
      ],
      "text/plain": [
       "                                         0\n",
       "uhcCoverage                      -0.165374\n",
       "atLeastBasicSanitizationServices -0.111198\n",
       "safelySanitization               -0.093042\n",
       "pharmacists                      -0.061561\n",
       "continent                        -0.036732\n",
       "nursingAndMidwife                -0.020202\n",
       "birthAttendedBySkilledPersonal   -0.014748\n",
       "Location                         -0.000467\n",
       "Period                           -0.000072\n",
       "medicalDoctors                   -0.000000\n",
       "basicHandWashing                  0.000000\n",
       "population25SDG                   0.000000\n",
       "basicDrinkingWaterServices        0.006044\n",
       "population10SDG                   0.041125"
      ]
     },
     "execution_count": 93,
     "metadata": {},
     "output_type": "execute_result"
    }
   ],
   "source": [
    "# from sklearn.linear_model import ElasticNet\n",
    "eNet = ElasticNet(alpha = 0.01, l1_ratio = 0.99,random_state=1).fit(X_train, y_train)\n",
    "prediction = eNet.predict(X_valid)\n",
    "print(f\"RMSE = {np.sqrt(mean_squared_error(y_valid,prediction))}\" ) \n",
    "print(f\"R-square = {r2_score(y_valid, prediction)}\" )\n",
    "\n",
    "print(eNet.coef_)\n",
    "print(eNet.intercept_)\n",
    "\n",
    "pd.DataFrame(eNet.coef_, index= df_maternal_imputed.columns ).sort_values(0)"
   ]
  },
  {
   "cell_type": "markdown",
   "metadata": {
    "papermill": {
     "duration": 0.08557,
     "end_time": "2021-01-10T14:10:35.199318",
     "exception": false,
     "start_time": "2021-01-10T14:10:35.113748",
     "status": "completed"
    },
    "tags": []
   },
   "source": [
    "## Under 5 mortality"
   ]
  },
  {
   "cell_type": "code",
   "execution_count": 94,
   "metadata": {
    "papermill": {
     "duration": 0.135732,
     "end_time": "2021-01-10T14:10:35.421971",
     "exception": false,
     "start_time": "2021-01-10T14:10:35.286239",
     "status": "completed"
    },
    "tags": []
   },
   "outputs": [
    {
     "name": "stdout",
     "output_type": "stream",
     "text": [
      "<class 'pandas.core.frame.DataFrame'>\n",
      "Int64Index: 10494 entries, 0 to 10493\n",
      "Data columns (total 14 columns):\n",
      " #   Column                            Non-Null Count  Dtype         \n",
      "---  ------                            --------------  -----         \n",
      " 0   Location                          10494 non-null  object        \n",
      " 1   Period                            10494 non-null  datetime64[ns]\n",
      " 2   under5MortalityRate               10000 non-null  float64       \n",
      " 3   birthAttendedBySkilledPersonal    1755 non-null   float64       \n",
      " 4   medicalDoctors                    2506 non-null   float64       \n",
      " 5   nursingAndMidwife                 2587 non-null   float64       \n",
      " 6   pharmacists                       1795 non-null   float64       \n",
      " 7   basicDrinkingWaterServices        3455 non-null   float64       \n",
      " 8   atLeastBasicSanitizationServices  3439 non-null   float64       \n",
      " 9   safelySanitization                1571 non-null   float64       \n",
      " 10  basicHandWashing                  921 non-null    float64       \n",
      " 11  uhcCoverage                       366 non-null    float64       \n",
      " 12  population10SDG                   711 non-null    float64       \n",
      " 13  population25SDG                   711 non-null    float64       \n",
      "dtypes: datetime64[ns](1), float64(12), object(1)\n",
      "memory usage: 1.2+ MB\n"
     ]
    }
   ],
   "source": [
    "df_under5 = pd.merge(under5MortalityRate_s, df_medicine, on = ['Location','Period'],how='outer')\n",
    "df_under5 = pd.merge(df_under5, df_hygiene, on = ['Location','Period'],how='outer')\n",
    "df_under5 = pd.merge(df_under5, df_finance, on = ['Location','Period'],how='outer')\n",
    "df_under5.info()"
   ]
  },
  {
   "cell_type": "code",
   "execution_count": 95,
   "metadata": {
    "papermill": {
     "duration": 0.160051,
     "end_time": "2021-01-10T14:10:35.667873",
     "exception": false,
     "start_time": "2021-01-10T14:10:35.507822",
     "status": "completed"
    },
    "tags": []
   },
   "outputs": [],
   "source": [
    "# Need to change some country name to use pycountry\n",
    "df_under5.loc[df_under5['Location'] == \"Sudan (until 2011)\", 'Location'] = 'Sudan'\n",
    "df_under5.loc[df_under5['Location'] == \"Bolivia (Plurinational State of)\", 'Location'] = 'Bolivia, Plurinational State of'\n",
    "df_under5.loc[df_under5['Location'] == \"Côte d’Ivoire\", 'Location'] = 'Ivory Coast'\n",
    "df_under5.loc[df_under5['Location'] == \"Iran (Islamic Republic of)\", 'Location'] = 'Iran, Islamic Republic of'\n",
    "df_under5.loc[df_under5['Location'] == \"Micronesia (Federated States of)\", 'Location'] = 'Micronesia'\n",
    "df_under5.loc[df_under5['Location'] == \"Republic of Korea\", 'Location'] = 'Korea, Republic of'\n",
    "df_under5.loc[df_under5['Location'] == \"The former Yugoslav Republic of Macedonia\", 'Location'] = 'North Macedonia'\n",
    "df_under5.loc[df_under5['Location'] == \"Venezuela (Bolivarian Republic of)\", 'Location'] = 'Venezuela, Bolivarian Republic of'\n",
    "df_under5.loc[df_under5['Location'] == \"Germany, Federal Republic (former)\", 'Location'] = 'Germany'\n",
    "df_under5.loc[df_under5['Location'] == \"India (until 1975)\", 'Location'] = 'India'\n",
    "df_under5.loc[df_under5['Location'] == \"Kiribati (until 1984)\", 'Location'] = 'Kiribati'\n",
    "df_under5.loc[df_under5['Location'] == \"South Viet Nam (former)\", 'Location'] = 'Viet Nam'\n",
    "df_under5.loc[df_under5['Location'] == 'Yemen Arab Republic (until 1990)', 'Location'] = 'Yemen'\n",
    "df_under5.loc[df_under5['Location'] == 'State of Palestine', 'Location'] = 'Palestine, State of'\n",
    "\n",
    "df_under5['country_code'] = df_under5['Location'].apply(pc.country_name_to_country_alpha2)\n",
    "df_under5['continent'] = df_under5['country_code'].apply(lambda x: convert_continent(x))"
   ]
  },
  {
   "cell_type": "code",
   "execution_count": 96,
   "metadata": {
    "papermill": {
     "duration": 3.515596,
     "end_time": "2021-01-10T14:10:39.270270",
     "exception": false,
     "start_time": "2021-01-10T14:10:35.754674",
     "status": "completed"
    },
    "tags": []
   },
   "outputs": [],
   "source": [
    "# Interpolate missing data within country\n",
    "country_list = df_under5['Location'].unique()\n",
    "\n",
    "for country in country_list:\n",
    "    df_country = df_under5[df_under5['Location'] == country] \n",
    "    df_country = df_country.sort_values('Period')\n",
    "    for i in range(2, 14):\n",
    "        df_country.iloc[:,i] = df_country.iloc[:,i].interpolate(method='linear', limit_direction='both')\n",
    "    \n",
    "    # drop the rows with the country\n",
    "    df_under5 = df_under5[df_under5['Location'] != country]\n",
    "    # Append fixed list to main list\n",
    "    df_under5 = df_under5.append(df_country)\n",
    "    \n",
    "df_under5 = df_under5.sort_index()"
   ]
  },
  {
   "cell_type": "code",
   "execution_count": 97,
   "metadata": {
    "papermill": {
     "duration": 0.177182,
     "end_time": "2021-01-10T14:10:39.537982",
     "exception": false,
     "start_time": "2021-01-10T14:10:39.360800",
     "status": "completed"
    },
    "tags": []
   },
   "outputs": [],
   "source": [
    "# Prepare data for KNNImputer\n",
    "from sklearn.preprocessing import LabelEncoder\n",
    "\n",
    "le = LabelEncoder()\n",
    "df_under5['Location'] = le.fit_transform(df_under5['Location'])\n",
    "df_under5['continent'] = le.fit_transform(df_under5['continent'])\n",
    "\n",
    "df_under5 = df_under5.drop(['country_code'], axis=1)\n",
    "\n",
    "# Convert time to float\n",
    "df_under5['Period'] = df_under5['Period'].apply(lambda x: x.toordinal())\n",
    "column_names = df_under5.columns"
   ]
  },
  {
   "cell_type": "code",
   "execution_count": 98,
   "metadata": {
    "papermill": {
     "duration": 6.546434,
     "end_time": "2021-01-10T14:10:46.173211",
     "exception": false,
     "start_time": "2021-01-10T14:10:39.626777",
     "status": "completed"
    },
    "tags": []
   },
   "outputs": [
    {
     "name": "stdout",
     "output_type": "stream",
     "text": [
      "<class 'pandas.core.frame.DataFrame'>\n",
      "RangeIndex: 10494 entries, 0 to 10493\n",
      "Data columns (total 15 columns):\n",
      " #   Column                            Non-Null Count  Dtype  \n",
      "---  ------                            --------------  -----  \n",
      " 0   Location                          10494 non-null  float64\n",
      " 1   Period                            10494 non-null  float64\n",
      " 2   under5MortalityRate               10494 non-null  float64\n",
      " 3   birthAttendedBySkilledPersonal    10494 non-null  float64\n",
      " 4   medicalDoctors                    10494 non-null  float64\n",
      " 5   nursingAndMidwife                 10494 non-null  float64\n",
      " 6   pharmacists                       10494 non-null  float64\n",
      " 7   basicDrinkingWaterServices        10494 non-null  float64\n",
      " 8   atLeastBasicSanitizationServices  10494 non-null  float64\n",
      " 9   safelySanitization                10494 non-null  float64\n",
      " 10  basicHandWashing                  10494 non-null  float64\n",
      " 11  uhcCoverage                       10494 non-null  float64\n",
      " 12  population10SDG                   10494 non-null  float64\n",
      " 13  population25SDG                   10494 non-null  float64\n",
      " 14  continent                         10494 non-null  float64\n",
      "dtypes: float64(15)\n",
      "memory usage: 1.2 MB\n"
     ]
    }
   ],
   "source": [
    "from sklearn.impute import KNNImputer\n",
    "imputer = KNNImputer(n_neighbors=5)\n",
    "df_under5_imputed = pd.DataFrame(imputer.fit_transform(df_under5), columns = column_names) \n",
    "df_under5_imputed.info()"
   ]
  },
  {
   "cell_type": "code",
   "execution_count": 99,
   "metadata": {
    "papermill": {
     "duration": 0.111995,
     "end_time": "2021-01-10T14:10:46.381252",
     "exception": false,
     "start_time": "2021-01-10T14:10:46.269257",
     "status": "completed"
    },
    "tags": []
   },
   "outputs": [],
   "source": [
    "from sklearn.model_selection import train_test_split\n",
    "from sklearn.preprocessing import StandardScaler\n",
    "from sklearn.pipeline import Pipeline\n",
    "\n",
    "numerical_cols = ['medicalDoctors', 'nursingAndMidwife', 'pharmacists', 'basicDrinkingWaterServices','atLeastBasicSanitizationServices', 'safelySanitization','basicHandWashing', 'uhcCoverage',\n",
    "       'population10SDG', 'population25SDG', 'continent']\n",
    "\n",
    "Y = np.array(df_under5_imputed['under5MortalityRate']).reshape(-1, 1)\n",
    "scaler = StandardScaler()\n",
    "Y = scaler.fit_transform(Y)\n",
    "\n",
    "df_under5_imputed.pop('under5MortalityRate')\n",
    "X = df_under5_imputed\n",
    "X[numerical_cols] = scaler.fit_transform(X[numerical_cols])\n",
    "\n",
    "# stratify - make sure classes are evenlly represented across splits\n",
    "X_train, X_valid, y_train, y_valid = train_test_split(X, Y, train_size=0.75)"
   ]
  },
  {
   "cell_type": "markdown",
   "metadata": {
    "papermill": {
     "duration": 0.087156,
     "end_time": "2021-01-10T14:10:46.556679",
     "exception": false,
     "start_time": "2021-01-10T14:10:46.469523",
     "status": "completed"
    },
    "tags": []
   },
   "source": [
    "### Lasso\n",
    "\n",
    "1. Evaluate LASSO parameter\n",
    "2. Fit model and check coefficient"
   ]
  },
  {
   "cell_type": "code",
   "execution_count": 100,
   "metadata": {
    "papermill": {
     "duration": 0.101279,
     "end_time": "2021-01-10T14:10:46.744848",
     "exception": false,
     "start_time": "2021-01-10T14:10:46.643569",
     "status": "completed"
    },
    "tags": []
   },
   "outputs": [
    {
     "name": "stdout",
     "output_type": "stream",
     "text": [
      "MAE: -0.357\n",
      "Config: {'alpha': 0.03}\n"
     ]
    }
   ],
   "source": [
    "# grid search hyperparameters for lasso regression\n",
    "# define model\n",
    "model = Lasso()\n",
    "# define model evaluation method\n",
    "cv = RepeatedKFold(n_splits=10, n_repeats=3, random_state=1)\n",
    "# define grid\n",
    "grid = dict()\n",
    "grid['alpha'] = arange(0, 1, 0.01)\n",
    "# define search\n",
    "search = GridSearchCV(model, grid, scoring='neg_mean_absolute_error', cv=cv, n_jobs=-1)\n",
    "# perform the search\n",
    "results = search.fit(X_train, y_train)\n",
    "# summarize\n",
    "print('MAE: %.3f' % results.best_score_)\n",
    "print('Config: %s' % results.best_params_)"
   ]
  },
  {
   "cell_type": "code",
   "execution_count": 101,
   "metadata": {
    "papermill": {
     "duration": 0.123331,
     "end_time": "2021-01-10T14:10:47.133350",
     "exception": false,
     "start_time": "2021-01-10T14:10:47.010019",
     "status": "completed"
    },
    "tags": []
   },
   "outputs": [
    {
     "name": "stdout",
     "output_type": "stream",
     "text": [
      "RMSE = 0.4505552164495745\n",
      "R-square = 0.7814616861595137\n",
      "[-3.55123424e-04 -7.07348160e-05 -1.39618282e-02 -0.00000000e+00\n",
      " -0.00000000e+00 -0.00000000e+00 -6.67705988e-02 -0.00000000e+00\n",
      " -1.55838854e-01 -7.69350302e-02 -1.15532580e-01  0.00000000e+00\n",
      "  0.00000000e+00 -7.66053996e-02]\n",
      "[52.56543187]\n"
     ]
    },
    {
     "data": {
      "text/html": [
       "<div>\n",
       "<style scoped>\n",
       "    .dataframe tbody tr th:only-of-type {\n",
       "        vertical-align: middle;\n",
       "    }\n",
       "\n",
       "    .dataframe tbody tr th {\n",
       "        vertical-align: top;\n",
       "    }\n",
       "\n",
       "    .dataframe thead th {\n",
       "        text-align: right;\n",
       "    }\n",
       "</style>\n",
       "<table border=\"1\" class=\"dataframe\">\n",
       "  <thead>\n",
       "    <tr style=\"text-align: right;\">\n",
       "      <th></th>\n",
       "      <th>0</th>\n",
       "    </tr>\n",
       "  </thead>\n",
       "  <tbody>\n",
       "    <tr>\n",
       "      <th>safelySanitization</th>\n",
       "      <td>-0.155839</td>\n",
       "    </tr>\n",
       "    <tr>\n",
       "      <th>uhcCoverage</th>\n",
       "      <td>-0.115533</td>\n",
       "    </tr>\n",
       "    <tr>\n",
       "      <th>basicHandWashing</th>\n",
       "      <td>-0.076935</td>\n",
       "    </tr>\n",
       "    <tr>\n",
       "      <th>continent</th>\n",
       "      <td>-0.076605</td>\n",
       "    </tr>\n",
       "    <tr>\n",
       "      <th>basicDrinkingWaterServices</th>\n",
       "      <td>-0.066771</td>\n",
       "    </tr>\n",
       "    <tr>\n",
       "      <th>birthAttendedBySkilledPersonal</th>\n",
       "      <td>-0.013962</td>\n",
       "    </tr>\n",
       "    <tr>\n",
       "      <th>Location</th>\n",
       "      <td>-0.000355</td>\n",
       "    </tr>\n",
       "    <tr>\n",
       "      <th>Period</th>\n",
       "      <td>-0.000071</td>\n",
       "    </tr>\n",
       "    <tr>\n",
       "      <th>medicalDoctors</th>\n",
       "      <td>-0.000000</td>\n",
       "    </tr>\n",
       "    <tr>\n",
       "      <th>nursingAndMidwife</th>\n",
       "      <td>-0.000000</td>\n",
       "    </tr>\n",
       "    <tr>\n",
       "      <th>pharmacists</th>\n",
       "      <td>-0.000000</td>\n",
       "    </tr>\n",
       "    <tr>\n",
       "      <th>atLeastBasicSanitizationServices</th>\n",
       "      <td>-0.000000</td>\n",
       "    </tr>\n",
       "    <tr>\n",
       "      <th>population10SDG</th>\n",
       "      <td>0.000000</td>\n",
       "    </tr>\n",
       "    <tr>\n",
       "      <th>population25SDG</th>\n",
       "      <td>0.000000</td>\n",
       "    </tr>\n",
       "  </tbody>\n",
       "</table>\n",
       "</div>"
      ],
      "text/plain": [
       "                                         0\n",
       "safelySanitization               -0.155839\n",
       "uhcCoverage                      -0.115533\n",
       "basicHandWashing                 -0.076935\n",
       "continent                        -0.076605\n",
       "basicDrinkingWaterServices       -0.066771\n",
       "birthAttendedBySkilledPersonal   -0.013962\n",
       "Location                         -0.000355\n",
       "Period                           -0.000071\n",
       "medicalDoctors                   -0.000000\n",
       "nursingAndMidwife                -0.000000\n",
       "pharmacists                      -0.000000\n",
       "atLeastBasicSanitizationServices -0.000000\n",
       "population10SDG                   0.000000\n",
       "population25SDG                   0.000000"
      ]
     },
     "execution_count": 101,
     "metadata": {},
     "output_type": "execute_result"
    }
   ],
   "source": [
    "from sklearn.metrics import mean_squared_error\n",
    "from sklearn.metrics import r2_score\n",
    "\n",
    "clf = Lasso(alpha=0.03).fit(X_train, y_train)\n",
    "prediction = clf.predict(X_valid)\n",
    "print(f\"RMSE = {np.sqrt(mean_squared_error(y_valid,prediction))}\" ) \n",
    "print(f\"R-square = {r2_score(y_valid, prediction)}\" )\n",
    "print(clf.coef_)\n",
    "print(clf.intercept_)\n",
    "pd.DataFrame(clf.coef_, index= df_maternal_imputed.columns ).sort_values(0)"
   ]
  },
  {
   "cell_type": "markdown",
   "metadata": {
    "papermill": {
     "duration": 0.089405,
     "end_time": "2021-01-10T14:10:47.312263",
     "exception": false,
     "start_time": "2021-01-10T14:10:47.222858",
     "status": "completed"
    },
    "tags": []
   },
   "source": [
    "### Elastic Net\n",
    "\n",
    "1. Evaluate elastic net parameter\n",
    "2. Fit model and check coefficient"
   ]
  },
  {
   "cell_type": "code",
   "execution_count": 102,
   "metadata": {
    "papermill": {
     "duration": 0.096224,
     "end_time": "2021-01-10T14:10:47.496684",
     "exception": false,
     "start_time": "2021-01-10T14:10:47.400460",
     "status": "completed"
    },
    "tags": []
   },
   "outputs": [
    {
     "name": "stdout",
     "output_type": "stream",
     "text": [
      "MAE: -0.357\n",
      "Config: {'alpha': 0.1, 'l1_ratio': 0.21}\n"
     ]
    }
   ],
   "source": [
    "# grid search hyperparameters for the elastic net\n",
    "# define model\n",
    "model = ElasticNet()\n",
    "# define model evaluation method\n",
    "cv = RepeatedKFold(n_splits=10, n_repeats=3, random_state=1)\n",
    "# define grid\n",
    "grid = dict()\n",
    "grid['alpha'] = [1e-5, 1e-4, 1e-3, 1e-2, 1e-1, 0.0, 1.0, 10.0, 100.0]\n",
    "grid['l1_ratio'] = arange(0, 1, 0.01)\n",
    "# define search\n",
    "search = GridSearchCV(model, grid, scoring='neg_mean_absolute_error', cv=cv, n_jobs=-1)\n",
    "# perform the search\n",
    "results = search.fit(X_train, y_train)\n",
    "# summarize\n",
    "print('MAE: %.3f' % results.best_score_)\n",
    "print('Config: %s' % results.best_params_)"
   ]
  },
  {
   "cell_type": "code",
   "execution_count": 104,
   "metadata": {
    "papermill": {
     "duration": 0.124426,
     "end_time": "2021-01-10T14:10:47.897757",
     "exception": false,
     "start_time": "2021-01-10T14:10:47.773331",
     "status": "completed"
    },
    "tags": []
   },
   "outputs": [
    {
     "name": "stdout",
     "output_type": "stream",
     "text": [
      "RMSE = 0.45029643607036635\n",
      "R-square = 0.7817126528986922\n",
      "[-3.72569250e-04 -7.06127696e-05 -1.38608834e-02 -0.00000000e+00\n",
      " -0.00000000e+00 -1.23130915e-03 -7.64843121e-02 -2.78950732e-03\n",
      " -1.46012685e-01 -8.10793261e-02 -1.09819433e-01  0.00000000e+00\n",
      "  0.00000000e+00 -7.83517901e-02]\n",
      "[52.47022453]\n"
     ]
    },
    {
     "data": {
      "text/html": [
       "<div>\n",
       "<style scoped>\n",
       "    .dataframe tbody tr th:only-of-type {\n",
       "        vertical-align: middle;\n",
       "    }\n",
       "\n",
       "    .dataframe tbody tr th {\n",
       "        vertical-align: top;\n",
       "    }\n",
       "\n",
       "    .dataframe thead th {\n",
       "        text-align: right;\n",
       "    }\n",
       "</style>\n",
       "<table border=\"1\" class=\"dataframe\">\n",
       "  <thead>\n",
       "    <tr style=\"text-align: right;\">\n",
       "      <th></th>\n",
       "      <th>0</th>\n",
       "    </tr>\n",
       "  </thead>\n",
       "  <tbody>\n",
       "    <tr>\n",
       "      <th>safelySanitization</th>\n",
       "      <td>-0.146013</td>\n",
       "    </tr>\n",
       "    <tr>\n",
       "      <th>uhcCoverage</th>\n",
       "      <td>-0.109819</td>\n",
       "    </tr>\n",
       "    <tr>\n",
       "      <th>basicHandWashing</th>\n",
       "      <td>-0.081079</td>\n",
       "    </tr>\n",
       "    <tr>\n",
       "      <th>continent</th>\n",
       "      <td>-0.078352</td>\n",
       "    </tr>\n",
       "    <tr>\n",
       "      <th>basicDrinkingWaterServices</th>\n",
       "      <td>-0.076484</td>\n",
       "    </tr>\n",
       "    <tr>\n",
       "      <th>birthAttendedBySkilledPersonal</th>\n",
       "      <td>-0.013861</td>\n",
       "    </tr>\n",
       "    <tr>\n",
       "      <th>atLeastBasicSanitizationServices</th>\n",
       "      <td>-0.002790</td>\n",
       "    </tr>\n",
       "    <tr>\n",
       "      <th>pharmacists</th>\n",
       "      <td>-0.001231</td>\n",
       "    </tr>\n",
       "    <tr>\n",
       "      <th>Location</th>\n",
       "      <td>-0.000373</td>\n",
       "    </tr>\n",
       "    <tr>\n",
       "      <th>Period</th>\n",
       "      <td>-0.000071</td>\n",
       "    </tr>\n",
       "    <tr>\n",
       "      <th>medicalDoctors</th>\n",
       "      <td>-0.000000</td>\n",
       "    </tr>\n",
       "    <tr>\n",
       "      <th>nursingAndMidwife</th>\n",
       "      <td>-0.000000</td>\n",
       "    </tr>\n",
       "    <tr>\n",
       "      <th>population10SDG</th>\n",
       "      <td>0.000000</td>\n",
       "    </tr>\n",
       "    <tr>\n",
       "      <th>population25SDG</th>\n",
       "      <td>0.000000</td>\n",
       "    </tr>\n",
       "  </tbody>\n",
       "</table>\n",
       "</div>"
      ],
      "text/plain": [
       "                                         0\n",
       "safelySanitization               -0.146013\n",
       "uhcCoverage                      -0.109819\n",
       "basicHandWashing                 -0.081079\n",
       "continent                        -0.078352\n",
       "basicDrinkingWaterServices       -0.076484\n",
       "birthAttendedBySkilledPersonal   -0.013861\n",
       "atLeastBasicSanitizationServices -0.002790\n",
       "pharmacists                      -0.001231\n",
       "Location                         -0.000373\n",
       "Period                           -0.000071\n",
       "medicalDoctors                   -0.000000\n",
       "nursingAndMidwife                -0.000000\n",
       "population10SDG                   0.000000\n",
       "population25SDG                   0.000000"
      ]
     },
     "execution_count": 104,
     "metadata": {},
     "output_type": "execute_result"
    }
   ],
   "source": [
    "# from sklearn.linear_model import ElasticNet\n",
    "eNet = ElasticNet(alpha = 0.1, l1_ratio = 0.21,random_state=1).fit(X_train, y_train)\n",
    "prediction = eNet.predict(X_valid)\n",
    "print(f\"RMSE = {np.sqrt(mean_squared_error(y_valid,prediction))}\" ) \n",
    "print(f\"R-square = {r2_score(y_valid, prediction)}\" )\n",
    "\n",
    "print(eNet.coef_)\n",
    "print(eNet.intercept_)\n",
    "\n",
    "pd.DataFrame(eNet.coef_, index= df_maternal_imputed.columns ).sort_values(0)"
   ]
  },
  {
   "cell_type": "markdown",
   "metadata": {
    "papermill": {
     "duration": 0.089557,
     "end_time": "2021-01-10T14:10:48.077334",
     "exception": false,
     "start_time": "2021-01-10T14:10:47.987777",
     "status": "completed"
    },
    "tags": []
   },
   "source": [
    "# Conclusion\n",
    "\n",
    "1. Maternal mortality - Improving safe sanitization, UHC coverage, and basic hand washing  are important in reducing maternal mortality    \n",
    "2. Infant mortality - Improving safe sanitization, UHC coverage, and basic drinking water services are important in reducing infant mortality\n",
    "3. Neonatal mortality - Improving UHC coverage, basic sanitization services, safe sanitization and increasing number of pharmacist are important in reducing neonatal mortality\n",
    "4. Under 5 mortality - Improving safe sanitization, UHC coverage, basic drinking water services, and basic hand washing are important in reducing mortality under 5-year old"
   ]
  }
 ],
 "metadata": {
  "kernelspec": {
   "display_name": "Python 3",
   "language": "python",
   "name": "python3"
  },
  "language_info": {
   "codemirror_mode": {
    "name": "ipython",
    "version": 3
   },
   "file_extension": ".py",
   "mimetype": "text/x-python",
   "name": "python",
   "nbconvert_exporter": "python",
   "pygments_lexer": "ipython3",
   "version": "3.8.5"
  },
  "papermill": {
   "duration": 72.159765,
   "end_time": "2021-01-10T14:10:49.223095",
   "environment_variables": {},
   "exception": null,
   "input_path": "__notebook__.ipynb",
   "output_path": "__notebook__.ipynb",
   "parameters": {},
   "start_time": "2021-01-10T14:09:37.063330",
   "version": "2.1.0"
  }
 },
 "nbformat": 4,
 "nbformat_minor": 4
}
